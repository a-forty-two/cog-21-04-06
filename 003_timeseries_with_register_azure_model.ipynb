{
 "cells": [
  {
   "cell_type": "code",
   "execution_count": 2,
   "id": "e4bed684",
   "metadata": {},
   "outputs": [
    {
     "name": "stdout",
     "output_type": "stream",
     "text": [
      "Users  timeseries.ipynb\r\n"
     ]
    }
   ],
   "source": [
    "!ls"
   ]
  },
  {
   "cell_type": "code",
   "execution_count": 3,
   "id": "19481e09",
   "metadata": {},
   "outputs": [
    {
     "data": {
      "text/html": [
       "<div>\n",
       "<style scoped>\n",
       "    .dataframe tbody tr th:only-of-type {\n",
       "        vertical-align: middle;\n",
       "    }\n",
       "\n",
       "    .dataframe tbody tr th {\n",
       "        vertical-align: top;\n",
       "    }\n",
       "\n",
       "    .dataframe thead th {\n",
       "        text-align: right;\n",
       "    }\n",
       "</style>\n",
       "<table border=\"1\" class=\"dataframe\">\n",
       "  <thead>\n",
       "    <tr style=\"text-align: right;\">\n",
       "      <th></th>\n",
       "      <th>Row ID</th>\n",
       "      <th>Order ID</th>\n",
       "      <th>Order Date</th>\n",
       "      <th>Sales</th>\n",
       "      <th>Profit</th>\n",
       "      <th>Column24</th>\n",
       "    </tr>\n",
       "  </thead>\n",
       "  <tbody>\n",
       "    <tr>\n",
       "      <th>2016-11-08</th>\n",
       "      <td>1</td>\n",
       "      <td>CA-2016-152156</td>\n",
       "      <td>2016-11-08</td>\n",
       "      <td>261.9600</td>\n",
       "      <td>41.9136</td>\n",
       "      <td>None</td>\n",
       "    </tr>\n",
       "    <tr>\n",
       "      <th>2016-11-08</th>\n",
       "      <td>2</td>\n",
       "      <td>CA-2016-152156</td>\n",
       "      <td>2016-11-08</td>\n",
       "      <td>731.9400</td>\n",
       "      <td>219.5820</td>\n",
       "      <td>None</td>\n",
       "    </tr>\n",
       "    <tr>\n",
       "      <th>2016-06-12</th>\n",
       "      <td>3</td>\n",
       "      <td>CA-2016-138688</td>\n",
       "      <td>2016-06-12</td>\n",
       "      <td>14.6200</td>\n",
       "      <td>6.8714</td>\n",
       "      <td>None</td>\n",
       "    </tr>\n",
       "    <tr>\n",
       "      <th>2015-10-11</th>\n",
       "      <td>4</td>\n",
       "      <td>US-2015-108966</td>\n",
       "      <td>2015-10-11</td>\n",
       "      <td>957.5775</td>\n",
       "      <td>-383.0310</td>\n",
       "      <td>None</td>\n",
       "    </tr>\n",
       "    <tr>\n",
       "      <th>2015-10-11</th>\n",
       "      <td>5</td>\n",
       "      <td>US-2015-108966</td>\n",
       "      <td>2015-10-11</td>\n",
       "      <td>22.3680</td>\n",
       "      <td>2.5164</td>\n",
       "      <td>None</td>\n",
       "    </tr>\n",
       "  </tbody>\n",
       "</table>\n",
       "</div>"
      ],
      "text/plain": [
       "            Row ID        Order ID Order Date     Sales    Profit Column24\n",
       "2016-11-08       1  CA-2016-152156 2016-11-08  261.9600   41.9136     None\n",
       "2016-11-08       2  CA-2016-152156 2016-11-08  731.9400  219.5820     None\n",
       "2016-06-12       3  CA-2016-138688 2016-06-12   14.6200    6.8714     None\n",
       "2015-10-11       4  US-2015-108966 2015-10-11  957.5775 -383.0310     None\n",
       "2015-10-11       5  US-2015-108966 2015-10-11   22.3680    2.5164     None"
      ]
     },
     "execution_count": 3,
     "metadata": {},
     "output_type": "execute_result"
    }
   ],
   "source": [
    "# azureml-core of version 1.0.72 or higher is required\n",
    "# azureml-dataprep[pandas] of version 1.1.34 or higher is required\n",
    "from azureml.core import Workspace, Dataset\n",
    "\n",
    "subscription_id = '73e2b9e2-1b33-4342-888f-25aca2d5563f'\n",
    "resource_group = 'domado'\n",
    "workspace_name = 'shaktiman'\n",
    "\n",
    "workspace = Workspace(subscription_id, resource_group, workspace_name)\n",
    "\n",
    "dataset = Dataset.get_by_name(workspace, name='superstoredataset')\n",
    "df = dataset.to_pandas_dataframe()\n",
    "df.head()"
   ]
  },
  {
   "cell_type": "code",
   "execution_count": 4,
   "id": "905f6c3f",
   "metadata": {},
   "outputs": [],
   "source": [
    "import warnings\n",
    "warnings.filterwarnings(\"ignore\")\n",
    "import itertools # Truth tables, series -> iterations \n",
    "import numpy as np\n",
    "import matplotlib.pyplot as plt\n",
    "import matplotlib\n",
    "# Jupyter-> specific\n",
    "%matplotlib inline\n",
    "\n",
    "#Timeseries models\n",
    "import statsmodels.api as sm"
   ]
  },
  {
   "cell_type": "code",
   "execution_count": 5,
   "id": "13ee4798",
   "metadata": {},
   "outputs": [
    {
     "data": {
      "text/plain": [
       "9994"
      ]
     },
     "execution_count": 5,
     "metadata": {},
     "output_type": "execute_result"
    }
   ],
   "source": [
    "len(df)"
   ]
  },
  {
   "cell_type": "code",
   "execution_count": 8,
   "id": "e9b8f2f5",
   "metadata": {},
   "outputs": [
    {
     "data": {
      "text/html": [
       "<div>\n",
       "<style scoped>\n",
       "    .dataframe tbody tr th:only-of-type {\n",
       "        vertical-align: middle;\n",
       "    }\n",
       "\n",
       "    .dataframe tbody tr th {\n",
       "        vertical-align: top;\n",
       "    }\n",
       "\n",
       "    .dataframe thead th {\n",
       "        text-align: right;\n",
       "    }\n",
       "</style>\n",
       "<table border=\"1\" class=\"dataframe\">\n",
       "  <thead>\n",
       "    <tr style=\"text-align: right;\">\n",
       "      <th></th>\n",
       "      <th>Order Date</th>\n",
       "      <th>Sales</th>\n",
       "    </tr>\n",
       "  </thead>\n",
       "  <tbody>\n",
       "    <tr>\n",
       "      <th>1232</th>\n",
       "      <td>2017-12-26</td>\n",
       "      <td>769.8440</td>\n",
       "    </tr>\n",
       "    <tr>\n",
       "      <th>1233</th>\n",
       "      <td>2017-12-27</td>\n",
       "      <td>177.6360</td>\n",
       "    </tr>\n",
       "    <tr>\n",
       "      <th>1234</th>\n",
       "      <td>2017-12-28</td>\n",
       "      <td>1657.3508</td>\n",
       "    </tr>\n",
       "    <tr>\n",
       "      <th>1235</th>\n",
       "      <td>2017-12-29</td>\n",
       "      <td>2915.5340</td>\n",
       "    </tr>\n",
       "    <tr>\n",
       "      <th>1236</th>\n",
       "      <td>2017-12-30</td>\n",
       "      <td>713.7900</td>\n",
       "    </tr>\n",
       "  </tbody>\n",
       "</table>\n",
       "</div>"
      ],
      "text/plain": [
       "     Order Date      Sales\n",
       "1232 2017-12-26   769.8440\n",
       "1233 2017-12-27   177.6360\n",
       "1234 2017-12-28  1657.3508\n",
       "1235 2017-12-29  2915.5340\n",
       "1236 2017-12-30   713.7900"
      ]
     },
     "execution_count": 8,
     "metadata": {},
     "output_type": "execute_result"
    }
   ],
   "source": [
    "data = df.groupby('Order Date')\n",
    "data_grouped_sales = data['Sales'].sum().reset_index()\n",
    "data_grouped_profit = data['Profit'].sum().reset_index()\n",
    "data_grouped_sales.tail()"
   ]
  },
  {
   "cell_type": "code",
   "execution_count": 11,
   "id": "5b27839c",
   "metadata": {},
   "outputs": [
    {
     "data": {
      "text/html": [
       "<div>\n",
       "<style scoped>\n",
       "    .dataframe tbody tr th:only-of-type {\n",
       "        vertical-align: middle;\n",
       "    }\n",
       "\n",
       "    .dataframe tbody tr th {\n",
       "        vertical-align: top;\n",
       "    }\n",
       "\n",
       "    .dataframe thead th {\n",
       "        text-align: right;\n",
       "    }\n",
       "</style>\n",
       "<table border=\"1\" class=\"dataframe\">\n",
       "  <thead>\n",
       "    <tr style=\"text-align: right;\">\n",
       "      <th></th>\n",
       "      <th>Order Date</th>\n",
       "      <th>Profit</th>\n",
       "    </tr>\n",
       "  </thead>\n",
       "  <tbody>\n",
       "    <tr>\n",
       "      <th>0</th>\n",
       "      <td>2014-01-03</td>\n",
       "      <td>0.2000</td>\n",
       "    </tr>\n",
       "    <tr>\n",
       "      <th>1</th>\n",
       "      <td>2014-01-04</td>\n",
       "      <td>-65.9901</td>\n",
       "    </tr>\n",
       "    <tr>\n",
       "      <th>2</th>\n",
       "      <td>2014-01-05</td>\n",
       "      <td>4.8840</td>\n",
       "    </tr>\n",
       "    <tr>\n",
       "      <th>3</th>\n",
       "      <td>2014-01-06</td>\n",
       "      <td>1358.0524</td>\n",
       "    </tr>\n",
       "    <tr>\n",
       "      <th>4</th>\n",
       "      <td>2014-01-07</td>\n",
       "      <td>-53.7096</td>\n",
       "    </tr>\n",
       "    <tr>\n",
       "      <th>5</th>\n",
       "      <td>2014-01-09</td>\n",
       "      <td>10.9180</td>\n",
       "    </tr>\n",
       "    <tr>\n",
       "      <th>6</th>\n",
       "      <td>2014-01-10</td>\n",
       "      <td>22.6537</td>\n",
       "    </tr>\n",
       "    <tr>\n",
       "      <th>7</th>\n",
       "      <td>2014-01-11</td>\n",
       "      <td>3.0814</td>\n",
       "    </tr>\n",
       "  </tbody>\n",
       "</table>\n",
       "</div>"
      ],
      "text/plain": [
       "  Order Date     Profit\n",
       "0 2014-01-03     0.2000\n",
       "1 2014-01-04   -65.9901\n",
       "2 2014-01-05     4.8840\n",
       "3 2014-01-06  1358.0524\n",
       "4 2014-01-07   -53.7096\n",
       "5 2014-01-09    10.9180\n",
       "6 2014-01-10    22.6537\n",
       "7 2014-01-11     3.0814"
      ]
     },
     "execution_count": 11,
     "metadata": {},
     "output_type": "execute_result"
    }
   ],
   "source": [
    "data_grouped_profit.head(8)\n",
    "# there are DATES for which data is missing "
   ]
  },
  {
   "cell_type": "code",
   "execution_count": 12,
   "id": "b61db094",
   "metadata": {},
   "outputs": [],
   "source": [
    "data = data_grouped_sales.set_index('Order Date') # main dataset remains unchanged\n",
    "# data_grouped_sales.set_index('Order Date', inplace=True) # index changed on main dataset itself"
   ]
  },
  {
   "cell_type": "code",
   "execution_count": 13,
   "id": "2a2140bc",
   "metadata": {},
   "outputs": [
    {
     "data": {
      "text/html": [
       "<div>\n",
       "<style scoped>\n",
       "    .dataframe tbody tr th:only-of-type {\n",
       "        vertical-align: middle;\n",
       "    }\n",
       "\n",
       "    .dataframe tbody tr th {\n",
       "        vertical-align: top;\n",
       "    }\n",
       "\n",
       "    .dataframe thead th {\n",
       "        text-align: right;\n",
       "    }\n",
       "</style>\n",
       "<table border=\"1\" class=\"dataframe\">\n",
       "  <thead>\n",
       "    <tr style=\"text-align: right;\">\n",
       "      <th></th>\n",
       "      <th>Sales</th>\n",
       "    </tr>\n",
       "    <tr>\n",
       "      <th>Order Date</th>\n",
       "      <th></th>\n",
       "    </tr>\n",
       "  </thead>\n",
       "  <tbody>\n",
       "    <tr>\n",
       "      <th>2014-01-03</th>\n",
       "      <td>0.000</td>\n",
       "    </tr>\n",
       "    <tr>\n",
       "      <th>2014-01-04</th>\n",
       "      <td>288.060</td>\n",
       "    </tr>\n",
       "    <tr>\n",
       "      <th>2014-01-05</th>\n",
       "      <td>19.536</td>\n",
       "    </tr>\n",
       "    <tr>\n",
       "      <th>2014-01-06</th>\n",
       "      <td>4407.100</td>\n",
       "    </tr>\n",
       "    <tr>\n",
       "      <th>2014-01-07</th>\n",
       "      <td>83.728</td>\n",
       "    </tr>\n",
       "  </tbody>\n",
       "</table>\n",
       "</div>"
      ],
      "text/plain": [
       "               Sales\n",
       "Order Date          \n",
       "2014-01-03     0.000\n",
       "2014-01-04   288.060\n",
       "2014-01-05    19.536\n",
       "2014-01-06  4407.100\n",
       "2014-01-07    83.728"
      ]
     },
     "execution_count": 13,
     "metadata": {},
     "output_type": "execute_result"
    }
   ],
   "source": [
    "data.head()"
   ]
  },
  {
   "cell_type": "code",
   "execution_count": 14,
   "id": "8aa6ef7e",
   "metadata": {},
   "outputs": [
    {
     "data": {
      "text/plain": [
       "Order Date\n",
       "2014-01-01     643.541773\n",
       "2014-02-01     205.990800\n",
       "2014-03-01    2308.618625\n",
       "2014-04-01    1172.193708\n",
       "2014-05-01     844.095250\n",
       "Freq: MS, Name: Sales, dtype: float64"
      ]
     },
     "execution_count": 14,
     "metadata": {},
     "output_type": "execute_result"
    }
   ],
   "source": [
    "y = data['Sales'].resample('MS').mean()\n",
    "y.head()\n",
    "#every month has some datapoint"
   ]
  },
  {
   "cell_type": "code",
   "execution_count": 15,
   "id": "8c39c761",
   "metadata": {},
   "outputs": [
    {
     "data": {
      "text/plain": [
       "Timestamp('2014-01-01 00:00:00')"
      ]
     },
     "execution_count": 15,
     "metadata": {},
     "output_type": "execute_result"
    }
   ],
   "source": [
    "y.index.min()"
   ]
  },
  {
   "cell_type": "code",
   "execution_count": 16,
   "id": "da717b16",
   "metadata": {},
   "outputs": [
    {
     "data": {
      "text/plain": [
       "Timestamp('2017-12-01 00:00:00')"
      ]
     },
     "execution_count": 16,
     "metadata": {},
     "output_type": "execute_result"
    }
   ],
   "source": [
    "y.index.max()"
   ]
  },
  {
   "cell_type": "code",
   "execution_count": 17,
   "id": "1d87952a",
   "metadata": {},
   "outputs": [
    {
     "data": {
      "text/plain": [
       "48"
      ]
     },
     "execution_count": 17,
     "metadata": {},
     "output_type": "execute_result"
    }
   ],
   "source": [
    "len(y)\n",
    "# Confidence-> No longer MISSING DATA POINTS!!!"
   ]
  },
  {
   "cell_type": "code",
   "execution_count": 18,
   "id": "1ea9fd06",
   "metadata": {},
   "outputs": [
    {
     "data": {
      "image/png": "[encoded data removed]",
      "text/plain": [
       "<Figure size 1440x360 with 1 Axes>"
      ]
     },
     "metadata": {
      "needs_background": "light"
     },
     "output_type": "display_data"
    }
   ],
   "source": [
    "plt.figure()\n",
    "y.plot(figsize=(20,5))\n",
    "plt.show()"
   ]
  },
  {
   "cell_type": "code",
   "execution_count": 23,
   "id": "7f989959",
   "metadata": {},
   "outputs": [
    {
     "data": {
      "image/png": "[encoded data removed]",
      "text/plain": [
       "<Figure size 432x288 with 4 Axes>"
      ]
     },
     "metadata": {
      "needs_background": "light"
     },
     "output_type": "display_data"
    }
   ],
   "source": [
    "# COMPLEX GRAPH\n",
    "# Decompose The GRAPH\n",
    "# 3 entities\n",
    "# ORIGINAL_GRAPH = PATTERN_PERIOD_GRAPH + TREND_SLOPE + RESIDUE_or_NOISE \n",
    "# ORIGINAL_GRAPH = repeating pattern + direction_of_progression + whatever_is_left! \n",
    "\n",
    "decomp_graph = sm.tsa.seasonal_decompose(y, model='additive')\n",
    "fig = decomp_graph.plot()\n",
    "plt.show()"
   ]
  },
  {
   "cell_type": "code",
   "execution_count": 24,
   "id": "7e11e9a2",
   "metadata": {},
   "outputs": [],
   "source": [
    "# vector\n",
    "# v1 = v2 + v3\n",
    "# i + j   =   (2i + 2j) +  (-j-i)\n",
    "\n",
    "# HYPERPARAMETERS-> we set \n",
    "\n",
    "# (p,d,q) -> Auto Regression integrated seasons with Moving Averages \n",
    "# (p d q) X S (p,d,q)-> Seasonal ARIMAX\n",
    "# Akaike Info Criterion-> AIC Score (ERROR)\n",
    "# (1 0 1) X 1 (1 1 1 ) => AIC_score1\n",
    "# (1 1 1) X 1 (0 0 1)  => AIC_score2\n",
    "\n",
    "# best algorithm will be the combination of (pdq)XS(pdq) where the value of AIC is minimum \n",
    "\n",
    "# exhaustive TRUTH table that could have been formed\n",
    "# HYPERPARAMETER OPTIMIZATION\n",
    "\n",
    "# Grid SEARCH-> exhaustively creates EVERY possible combination of HPs\n",
    "# typically used for discrete values\n",
    "# returns the BEST possible HP set\n",
    "\n",
    "# Randomized Search-> infinite answers possible-> WORKABLE set of HPs instead of the best pair\n",
    "# (which could've taken infinite time!)\n",
    "\n",
    "# Bayesian Search-> next HP set will be selected probabilistically "
   ]
  },
  {
   "cell_type": "code",
   "execution_count": 25,
   "id": "903bd9dc",
   "metadata": {},
   "outputs": [
    {
     "name": "stdout",
     "output_type": "stream",
     "text": [
      "[(0, 0, 0), (0, 0, 1), (0, 1, 0), (0, 1, 1), (1, 0, 0), (1, 0, 1), (1, 1, 0), (1, 1, 1)]\n"
     ]
    }
   ],
   "source": [
    "p=d=q = range(0,2)\n",
    "pdq = list(itertools.product(p,d,q))\n",
    "print(pdq)\n",
    "# 0-> dont use this HP\n",
    "# 1 -> use this HP!\n",
    "# good for ARIMAX"
   ]
  },
  {
   "cell_type": "code",
   "execution_count": 26,
   "id": "130e74b0",
   "metadata": {},
   "outputs": [
    {
     "name": "stdout",
     "output_type": "stream",
     "text": [
      "SARIMAX individual model = (1, 0, 1) X (0, 0, 0, 12) \n",
      "SARIMAX individual model = (1, 0, 1) X (0, 0, 1, 12) \n",
      "SARIMAX individual model = (1, 0, 1) X (0, 1, 0, 12) \n",
      "SARIMAX individual model = (1, 0, 1) X (0, 1, 1, 12) \n",
      "SARIMAX individual model = (1, 0, 1) X (1, 0, 0, 12) \n"
     ]
    }
   ],
   "source": [
    "# seasons-> manually decide the time frame of repeating!\n",
    "# 1 year as REPEAT of seasons \n",
    "\n",
    "seasons = 12 # collection of 12 x-axis values (monthly) to be considered as 1 PERIOD\n",
    "\n",
    "seasonpdq =  [ (x[0],x[1],x[2], seasons)  for x in pdq ]\n",
    "\n",
    "pdq_idx = 5\n",
    "\n",
    "for season_idx in range(5):\n",
    "    print('SARIMAX individual model = {} X {} '.format(pdq[pdq_idx], seasonpdq[season_idx]))\n"
   ]
  },
  {
   "cell_type": "code",
   "execution_count": 27,
   "id": "adeec2e7",
   "metadata": {},
   "outputs": [],
   "source": [
    "min_pdq = (999,999,999)\n",
    "min_spdq = (999,999,999, 12)\n",
    "min_AIC = 999\n"
   ]
  },
  {
   "cell_type": "code",
   "execution_count": 29,
   "id": "b17a41bc",
   "metadata": {},
   "outputs": [
    {
     "name": "stdout",
     "output_type": "stream",
     "text": [
      "model 1= (0, 0, 0) X (0, 0, 0, 12) , AIC = 865.2629100380259 \n",
      "model 2= (0, 0, 0) X (0, 0, 1, 12) , AIC = 833.9872755473847 \n",
      "model 3= (0, 0, 0) X (0, 1, 0, 12) , AIC = 556.9828893725455 \n",
      "maxlag should be < nobs\n",
      "model 4= (0, 0, 0) X (1, 0, 0, 12) , AIC = 775.427830945678 \n",
      "model 5= (0, 0, 0) X (1, 0, 1, 12) , AIC = 776.6820439955138 \n",
      "model 6= (0, 0, 0) X (1, 1, 0, 12) , AIC = 557.986488358641 \n",
      "maxlag should be < nobs\n",
      "model 7= (0, 0, 1) X (0, 0, 0, 12) , AIC = 833.820348623311 \n",
      "model 8= (0, 0, 1) X (0, 0, 1, 12) , AIC = 808.4207941703752 \n",
      "model 9= (0, 0, 1) X (0, 1, 0, 12) , AIC = 558.1204753173972 \n",
      "maxlag should be < nobs\n",
      "model 10= (0, 0, 1) X (1, 0, 0, 12) , AIC = 821.5559275770008 \n",
      "model 11= (0, 0, 1) X (1, 0, 1, 12) , AIC = 771.0247947608273 \n",
      "model 12= (0, 0, 1) X (1, 1, 0, 12) , AIC = 558.1927367820151 \n",
      "maxlag should be < nobs\n",
      "model 13= (0, 1, 0) X (0, 0, 0, 12) , AIC = 776.7991797119755 \n",
      "model 14= (0, 1, 0) X (0, 0, 1, 12) , AIC = 767.5994000688486 \n",
      "model 15= (0, 1, 0) X (0, 1, 0, 12) , AIC = 559.5752460717016 \n",
      "maxlag should be < nobs\n",
      "model 16= (0, 1, 0) X (1, 0, 0, 12) , AIC = 758.5462742076534 \n",
      "model 17= (0, 1, 0) X (1, 0, 1, 12) , AIC = 755.4298109651232 \n",
      "model 18= (0, 1, 0) X (1, 1, 0, 12) , AIC = 552.4326177456984 \n",
      "maxlag should be < nobs\n",
      "model 19= (0, 1, 1) X (0, 0, 0, 12) , AIC = 762.4424670913377 \n",
      "model 20= (0, 1, 1) X (0, 0, 1, 12) , AIC = 750.9296174600634 \n",
      "model 21= (0, 1, 1) X (0, 1, 0, 12) , AIC = 542.404548724503 \n",
      "maxlag should be < nobs\n",
      "model 22= (0, 1, 1) X (1, 0, 0, 12) , AIC = 736.3419177176984 \n",
      "model 23= (0, 1, 1) X (1, 0, 1, 12) , AIC = 733.281078030327 \n",
      "model 24= (0, 1, 1) X (1, 1, 0, 12) , AIC = 535.076313600365 \n",
      "maxlag should be < nobs\n",
      "model 25= (1, 0, 0) X (0, 0, 0, 12) , AIC = 794.1688278007791 \n",
      "model 26= (1, 0, 0) X (0, 0, 1, 12) , AIC = 781.9598623280538 \n",
      "model 27= (1, 0, 0) X (0, 1, 0, 12) , AIC = 557.7718216416222 \n",
      "maxlag should be < nobs\n",
      "model 28= (1, 0, 0) X (1, 0, 0, 12) , AIC = 766.5803773121688 \n",
      "model 29= (1, 0, 0) X (1, 0, 1, 12) , AIC = 763.2925645356755 \n",
      "model 30= (1, 0, 0) X (1, 1, 0, 12) , AIC = 557.2429172795382 \n",
      "maxlag should be < nobs\n",
      "model 31= (1, 0, 1) X (0, 0, 0, 12) , AIC = 782.1539637844685 \n",
      "model 32= (1, 0, 1) X (0, 0, 1, 12) , AIC = 768.6700290548885 \n",
      "model 33= (1, 0, 1) X (0, 1, 0, 12) , AIC = 555.1191650808705 \n",
      "maxlag should be < nobs\n",
      "model 34= (1, 0, 1) X (1, 0, 0, 12) , AIC = 753.542324555267 \n",
      "model 35= (1, 0, 1) X (1, 0, 1, 12) , AIC = 750.5678051008304 \n",
      "model 36= (1, 0, 1) X (1, 1, 0, 12) , AIC = 548.1965852527001 \n",
      "maxlag should be < nobs\n",
      "model 37= (1, 1, 0) X (0, 0, 0, 12) , AIC = 768.0660460822821 \n",
      "model 38= (1, 1, 0) X (0, 0, 1, 12) , AIC = 757.537608807867 \n",
      "model 39= (1, 1, 0) X (0, 1, 0, 12) , AIC = 549.9323906734215 \n",
      "maxlag should be < nobs\n",
      "model 40= (1, 1, 0) X (1, 0, 0, 12) , AIC = 746.4284592008389 \n",
      "model 41= (1, 1, 0) X (1, 0, 1, 12) , AIC = 744.9399656013983 \n",
      "model 42= (1, 1, 0) X (1, 1, 0, 12) , AIC = 544.0346000953903 \n",
      "maxlag should be < nobs\n",
      "model 43= (1, 1, 1) X (0, 0, 0, 12) , AIC = 763.7495885795861 \n",
      "model 44= (1, 1, 1) X (0, 0, 1, 12) , AIC = 752.1558511740188 \n",
      "model 45= (1, 1, 1) X (0, 1, 0, 12) , AIC = 544.3703966153399 \n",
      "maxlag should be < nobs\n",
      "model 46= (1, 1, 1) X (1, 0, 0, 12) , AIC = 738.3177380810514 \n",
      "model 47= (1, 1, 1) X (1, 0, 1, 12) , AIC = 735.2429697293494 \n",
      "model 48= (1, 1, 1) X (1, 1, 0, 12) , AIC = 536.9973003947509 \n",
      "maxlag should be < nobs\n"
     ]
    }
   ],
   "source": [
    "# BUILD all possible models-> 0 .. 1-> discrete\n",
    "counter = 1\n",
    "for param in pdq:\n",
    "    for sparam in seasonpdq:\n",
    "        try:\n",
    "            #some of these time series model-> can result in Div by 0 conditions\n",
    "            # graph crashes and ALGORITHM/MODEL remains complete\n",
    "            # AIC score may not be calculated and an exception might occur\n",
    "            model = sm.tsa.statespace.SARIMAX(y, order=param, seasonal_order=sparam)\n",
    "            predictions = model.fit()\n",
    "            print('model '+ str(counter) + '= {} X {} , AIC = {} '.format(param, sparam, predictions.aic ))\n",
    "            if(predictions.aic < min_AIC):\n",
    "                min_AIC = predictions.aic\n",
    "                min_pdq = param\n",
    "                min_spdq = sparam\n",
    "            \n",
    "            \n",
    "            counter = counter + 1\n",
    "        except Exception as e:\n",
    "            print(e)\n",
    "            continue"
   ]
  },
  {
   "cell_type": "code",
   "execution_count": 30,
   "id": "9ff144b7",
   "metadata": {},
   "outputs": [
    {
     "name": "stdout",
     "output_type": "stream",
     "text": [
      "(0, 1, 1)\n",
      "(1, 1, 0, 12)\n",
      "535.076313600365\n"
     ]
    }
   ],
   "source": [
    "print(min_pdq)\n",
    "print(min_spdq)\n",
    "print(min_AIC)"
   ]
  },
  {
   "cell_type": "code",
   "execution_count": 31,
   "id": "63958a16",
   "metadata": {},
   "outputs": [
    {
     "data": {
      "text/html": [
       "<table class=\"simpletable\">\n",
       "<caption>Statespace Model Results</caption>\n",
       "<tr>\n",
       "  <th>Dep. Variable:</th>                <td>Sales</td>             <th>  No. Observations:  </th>    <td>48</td>   \n",
       "</tr>\n",
       "<tr>\n",
       "  <th>Model:</th>           <td>SARIMAX(0, 1, 1)x(1, 1, 0, 12)</td> <th>  Log Likelihood     </th> <td>-264.538</td>\n",
       "</tr>\n",
       "<tr>\n",
       "  <th>Date:</th>                   <td>Fri, 30 Apr 2021</td>        <th>  AIC                </th>  <td>535.076</td>\n",
       "</tr>\n",
       "<tr>\n",
       "  <th>Time:</th>                       <td>13:01:01</td>            <th>  BIC                </th>  <td>539.742</td>\n",
       "</tr>\n",
       "<tr>\n",
       "  <th>Sample:</th>                    <td>01-01-2014</td>           <th>  HQIC               </th>  <td>536.687</td>\n",
       "</tr>\n",
       "<tr>\n",
       "  <th></th>                          <td>- 12-01-2017</td>          <th>                     </th>     <td> </td>   \n",
       "</tr>\n",
       "<tr>\n",
       "  <th>Covariance Type:</th>               <td>opg</td>              <th>                     </th>     <td> </td>   \n",
       "</tr>\n",
       "</table>\n",
       "<table class=\"simpletable\">\n",
       "<tr>\n",
       "      <td></td>        <th>coef</th>     <th>std err</th>      <th>z</th>      <th>P>|z|</th>  <th>[0.025</th>    <th>0.975]</th>  \n",
       "</tr>\n",
       "<tr>\n",
       "  <th>ma.L1</th>    <td>   -0.8806</td> <td>    0.102</td> <td>   -8.615</td> <td> 0.000</td> <td>   -1.081</td> <td>   -0.680</td>\n",
       "</tr>\n",
       "<tr>\n",
       "  <th>ar.S.L12</th> <td>   -0.5524</td> <td>    0.159</td> <td>   -3.476</td> <td> 0.001</td> <td>   -0.864</td> <td>   -0.241</td>\n",
       "</tr>\n",
       "<tr>\n",
       "  <th>sigma2</th>   <td> 1.873e+05</td> <td> 5.52e+04</td> <td>    3.392</td> <td> 0.001</td> <td> 7.91e+04</td> <td> 2.96e+05</td>\n",
       "</tr>\n",
       "</table>\n",
       "<table class=\"simpletable\">\n",
       "<tr>\n",
       "  <th>Ljung-Box (Q):</th>           <td>nan</td> <th>  Jarque-Bera (JB):  </th> <td>0.98</td>\n",
       "</tr>\n",
       "<tr>\n",
       "  <th>Prob(Q):</th>                 <td>nan</td> <th>  Prob(JB):          </th> <td>0.61</td>\n",
       "</tr>\n",
       "<tr>\n",
       "  <th>Heteroskedasticity (H):</th> <td>2.30</td> <th>  Skew:              </th> <td>0.26</td>\n",
       "</tr>\n",
       "<tr>\n",
       "  <th>Prob(H) (two-sided):</th>    <td>0.16</td> <th>  Kurtosis:          </th> <td>2.38</td>\n",
       "</tr>\n",
       "</table><br/><br/>Warnings:<br/>[1] Covariance matrix calculated using the outer product of gradients (complex-step)."
      ],
      "text/plain": [
       "<class 'statsmodels.iolib.summary.Summary'>\n",
       "\"\"\"\n",
       "                                 Statespace Model Results                                 \n",
       "==========================================================================================\n",
       "Dep. Variable:                              Sales   No. Observations:                   48\n",
       "Model:             SARIMAX(0, 1, 1)x(1, 1, 0, 12)   Log Likelihood                -264.538\n",
       "Date:                            Fri, 30 Apr 2021   AIC                            535.076\n",
       "Time:                                    13:01:01   BIC                            539.742\n",
       "Sample:                                01-01-2014   HQIC                           536.687\n",
       "                                     - 12-01-2017                                         \n",
       "Covariance Type:                              opg                                         \n",
       "==============================================================================\n",
       "                 coef    std err          z      P>|z|      [0.025      0.975]\n",
       "------------------------------------------------------------------------------\n",
       "ma.L1         -0.8806      0.102     -8.615      0.000      -1.081      -0.680\n",
       "ar.S.L12      -0.5524      0.159     -3.476      0.001      -0.864      -0.241\n",
       "sigma2      1.873e+05   5.52e+04      3.392      0.001    7.91e+04    2.96e+05\n",
       "===================================================================================\n",
       "Ljung-Box (Q):                         nan   Jarque-Bera (JB):                 0.98\n",
       "Prob(Q):                               nan   Prob(JB):                         0.61\n",
       "Heteroskedasticity (H):               2.30   Skew:                             0.26\n",
       "Prob(H) (two-sided):                  0.16   Kurtosis:                         2.38\n",
       "===================================================================================\n",
       "\n",
       "Warnings:\n",
       "[1] Covariance matrix calculated using the outer product of gradients (complex-step).\n",
       "\"\"\""
      ]
     },
     "execution_count": 31,
     "metadata": {},
     "output_type": "execute_result"
    }
   ],
   "source": [
    "# HP optimization has told you what the best model is\n",
    "# now its our turn to build this best model and apply it\n",
    "model = sm.tsa.statespace.SARIMAX(y, order=min_pdq, seasonal_order=min_spdq)\n",
    "results = model.fit()\n",
    "results.summary()"
   ]
  },
  {
   "cell_type": "code",
   "execution_count": 33,
   "id": "29d305bb",
   "metadata": {},
   "outputs": [
    {
     "data": {
      "image/png": "[encoded data removed]",
      "text/plain": [
       "<Figure size 432x288 with 1 Axes>"
      ]
     },
     "metadata": {
      "needs_background": "light"
     },
     "output_type": "display_data"
    }
   ],
   "source": [
    "import pandas as pd\n",
    "pred = results.get_prediction(start=pd.to_datetime('2017-01-01'), dynamic=False)\n",
    "# CONFIDENCE INTERVAL-> min to max within which reality could've occured\n",
    "pred_ci = pred.conf_int()\n",
    "ax = y['2014':].plot(label='actual')\n",
    "pred.predicted_mean.plot(ax=ax, label='One-Step-Ahead-Forecast')\n",
    "ax.fill_between(pred_ci.index, pred_ci.iloc[:,0],pred_ci.iloc[:,1], color='b', alpha=0.2)\n",
    "ax.set_xlabel('Months')\n",
    "ax.set_ylabel('Sales Forecast')\n",
    "plt.legend()\n",
    "plt.show()\n"
   ]
  },
  {
   "cell_type": "code",
   "execution_count": 35,
   "id": "1944ddf1",
   "metadata": {},
   "outputs": [
    {
     "data": {
      "text/plain": [
       "{'seasonal_periods': 12,\n",
       " 'measurement_error': False,\n",
       " 'time_varying_regression': False,\n",
       " 'mle_regression': False,\n",
       " 'simple_differencing': False,\n",
       " 'enforce_stationarity': True,\n",
       " 'enforce_invertibility': True,\n",
       " 'hamilton_representation': False,\n",
       " 'concentrate_scale': False,\n",
       " 'order': (0, 1, 1),\n",
       " 'seasonal_order': (1, 1, 0, 12),\n",
       " 'polynomial_ar': array([1.]),\n",
       " '_polynomial_ar': array([1.]),\n",
       " 'polynomial_ma': array([1., 1.]),\n",
       " '_polynomial_ma': array([ 1.        , -0.88061955]),\n",
       " 'polynomial_seasonal_ar': array([1., 0., 0., 0., 0., 0., 0., 0., 0., 0., 0., 0., 1.]),\n",
       " '_polynomial_seasonal_ar': array([1.        , 0.        , 0.        , 0.        , 0.        ,\n",
       "        0.        , 0.        , 0.        , 0.        , 0.        ,\n",
       "        0.        , 0.        , 0.55241419]),\n",
       " 'polynomial_seasonal_ma': array([1.]),\n",
       " '_polynomial_seasonal_ma': array([1.]),\n",
       " 'trend': None,\n",
       " 'polynomial_trend': array([], dtype=float64),\n",
       " '_polynomial_trend': array([], dtype=float64),\n",
       " 'k_ar': 0,\n",
       " 'k_ar_params': 0,\n",
       " 'k_diff': 1,\n",
       " 'k_ma': 1,\n",
       " 'k_ma_params': 1,\n",
       " 'k_seasonal_ar': 12,\n",
       " 'k_seasonal_ar_params': 1,\n",
       " 'k_seasonal_diff': 1,\n",
       " 'k_seasonal_ma': 0,\n",
       " 'k_seasonal_ma_params': 0,\n",
       " '_k_diff': 1,\n",
       " '_k_seasonal_diff': 1,\n",
       " 'k_trend': 0,\n",
       " '_k_order': 12,\n",
       " 'k_exog': 0,\n",
       " 'state_regression': False,\n",
       " 'state_error': True,\n",
       " 'k_params': 3,\n",
       " 'orig_endog': Order Date\n",
       " 2014-01-01     643.541773\n",
       " 2014-02-01     205.990800\n",
       " 2014-03-01    2308.618625\n",
       " 2014-04-01    1172.193708\n",
       " 2014-05-01     844.095250\n",
       " 2014-06-01    1380.359824\n",
       " 2014-07-01    1395.869708\n",
       " 2014-08-01    1149.104354\n",
       " 2014-09-01    2898.302386\n",
       " 2014-10-01    1082.102517\n",
       " 2014-11-01    2695.748990\n",
       " 2014-12-01    2475.731375\n",
       " 2015-01-01     992.486422\n",
       " 2015-02-01     699.146353\n",
       " 2015-03-01    1483.329692\n",
       " 2015-04-01    1304.887300\n",
       " 2015-05-01    1080.253130\n",
       " 2015-06-01    1119.280182\n",
       " 2015-07-01    1188.521708\n",
       " 2015-08-01    1652.255282\n",
       " 2015-09-01    2546.608480\n",
       " 2015-10-01    1206.052135\n",
       " 2015-11-01    2667.121839\n",
       " 2015-12-01    2482.615973\n",
       " 2016-01-01     876.607762\n",
       " 2016-02-01     946.100625\n",
       " 2016-03-01    1814.061036\n",
       " 2016-04-01    1484.120808\n",
       " 2016-05-01    1944.435586\n",
       " 2016-06-01    1467.710815\n",
       " 2016-07-01    1563.832320\n",
       " 2016-08-01    1107.657225\n",
       " 2016-09-01    2565.248818\n",
       " 2016-10-01    2151.410630\n",
       " 2016-11-01    2701.111786\n",
       " 2016-12-01    3418.829464\n",
       " 2017-01-01    1906.968957\n",
       " 2017-02-01    1013.068320\n",
       " 2017-03-01    2095.016707\n",
       " 2017-04-01    1332.229819\n",
       " 2017-05-01    1633.124304\n",
       " 2017-06-01    2008.512758\n",
       " 2017-07-01    1533.298207\n",
       " 2017-08-01    2320.126222\n",
       " 2017-09-01    3087.672643\n",
       " 2017-10-01    2765.368686\n",
       " 2017-11-01    3912.779367\n",
       " 2017-12-01    2799.495717\n",
       " Freq: MS, Name: Sales, dtype: float64,\n",
       " 'orig_exog': None,\n",
       " 'orig_k_diff': 1,\n",
       " 'orig_k_seasonal_diff': 1,\n",
       " '_k_states_diff': 13,\n",
       " 'nobs': 48,\n",
       " 'k_states': 25,\n",
       " 'k_posdef': 1,\n",
       " 'data': <statsmodels.base.data.PandasData at 0x7f201948e978>,\n",
       " 'k_constant': 0,\n",
       " 'exog': None,\n",
       " 'endog': array([[ 643.54177273],\n",
       "        [ 205.9908    ],\n",
       "        [2308.618625  ],\n",
       "        [1172.19370833],\n",
       "        [ 844.09525   ],\n",
       "        [1380.359824  ],\n",
       "        [1395.86970833],\n",
       "        [1149.10435417],\n",
       "        [2898.30238571],\n",
       "        [1082.10251724],\n",
       "        [2695.74898966],\n",
       "        [2475.731375  ],\n",
       "        [ 992.48642222],\n",
       "        [ 699.14635294],\n",
       "        [1483.32969231],\n",
       "        [1304.8873    ],\n",
       "        [1080.25312963],\n",
       "        [1119.28018182],\n",
       "        [1188.52170833],\n",
       "        [1652.25528182],\n",
       "        [2546.60848   ],\n",
       "        [1206.05213462],\n",
       "        [2667.12183929],\n",
       "        [2482.61597333],\n",
       "        [ 876.6077619 ],\n",
       "        [ 946.100625  ],\n",
       "        [1814.06103571],\n",
       "        [1484.12080769],\n",
       "        [1944.43558621],\n",
       "        [1467.71081481],\n",
       "        [1563.83232   ],\n",
       "        [1107.657225  ],\n",
       "        [2565.24881786],\n",
       "        [2151.41062963],\n",
       "        [2701.11178621],\n",
       "        [3418.82946429],\n",
       "        [1906.96895652],\n",
       "        [1013.06832   ],\n",
       "        [2095.01670714],\n",
       "        [1332.22981852],\n",
       "        [1633.1243037 ],\n",
       "        [2008.51275769],\n",
       "        [1533.2982069 ],\n",
       "        [2320.12622222],\n",
       "        [3087.67264286],\n",
       "        [2765.36868571],\n",
       "        [3912.77936667],\n",
       "        [2799.49571724]]),\n",
       " '_data_attr': ['exog',\n",
       "  'endog',\n",
       "  'data.exog',\n",
       "  'data.endog',\n",
       "  'data.orig_endog',\n",
       "  'data.orig_exog'],\n",
       " '_init_keys': ['order',\n",
       "  'seasonal_order',\n",
       "  'trend',\n",
       "  'measurement_error',\n",
       "  'time_varying_regression',\n",
       "  'mle_regression',\n",
       "  'simple_differencing',\n",
       "  'enforce_stationarity',\n",
       "  'enforce_invertibility',\n",
       "  'hamilton_representation',\n",
       "  'concentrate_scale',\n",
       "  'loglikelihood_burn'],\n",
       " '_polynomial_ar_idx': array([], dtype=int64),\n",
       " '_polynomial_ma_idx': array([1]),\n",
       " '_polynomial_seasonal_ar_idx': array([12]),\n",
       " '_polynomial_seasonal_ma_idx': array([], dtype=int64),\n",
       " 'transition_ar_params_idx': ('transition', slice(13, 25, None), 13),\n",
       " 'selection_ma_params_idx': ('selection', slice(14, 15, None), 0),\n",
       " '_index': DatetimeIndex(['2014-01-01', '2014-02-01', '2014-03-01', '2014-04-01',\n",
       "                '2014-05-01', '2014-06-01', '2014-07-01', '2014-08-01',\n",
       "                '2014-09-01', '2014-10-01', '2014-11-01', '2014-12-01',\n",
       "                '2015-01-01', '2015-02-01', '2015-03-01', '2015-04-01',\n",
       "                '2015-05-01', '2015-06-01', '2015-07-01', '2015-08-01',\n",
       "                '2015-09-01', '2015-10-01', '2015-11-01', '2015-12-01',\n",
       "                '2016-01-01', '2016-02-01', '2016-03-01', '2016-04-01',\n",
       "                '2016-05-01', '2016-06-01', '2016-07-01', '2016-08-01',\n",
       "                '2016-09-01', '2016-10-01', '2016-11-01', '2016-12-01',\n",
       "                '2017-01-01', '2017-02-01', '2017-03-01', '2017-04-01',\n",
       "                '2017-05-01', '2017-06-01', '2017-07-01', '2017-08-01',\n",
       "                '2017-09-01', '2017-10-01', '2017-11-01', '2017-12-01'],\n",
       "               dtype='datetime64[ns]', name='Order Date', freq='MS'),\n",
       " '_index_generated': False,\n",
       " '_index_none': False,\n",
       " '_index_dates': True,\n",
       " '_index_freq': <MonthBegin>,\n",
       " '_index_inferred_freq': False,\n",
       " '_init_kwargs': {'k_posdef': 1, 'loglikelihood_burn': 13},\n",
       " '_trend_data': array([], shape=(48, 0), dtype=float64),\n",
       " 'ssm': <statsmodels.tsa.statespace.simulation_smoother.SimulationSmoother at 0x7f201948e6d8>,\n",
       " 'k_endog': 1}"
      ]
     },
     "execution_count": 35,
     "metadata": {},
     "output_type": "execute_result"
    }
   ],
   "source": [
    "model.__dict__"
   ]
  },
  {
   "cell_type": "code",
   "execution_count": 36,
   "id": "fdc34111",
   "metadata": {},
   "outputs": [
    {
     "data": {
      "text/plain": [
       "['__class__',\n",
       " '__delattr__',\n",
       " '__dict__',\n",
       " '__dir__',\n",
       " '__doc__',\n",
       " '__eq__',\n",
       " '__format__',\n",
       " '__ge__',\n",
       " '__getattribute__',\n",
       " '__getitem__',\n",
       " '__gt__',\n",
       " '__hash__',\n",
       " '__init__',\n",
       " '__init_subclass__',\n",
       " '__le__',\n",
       " '__lt__',\n",
       " '__module__',\n",
       " '__ne__',\n",
       " '__new__',\n",
       " '__reduce__',\n",
       " '__reduce_ex__',\n",
       " '__repr__',\n",
       " '__setattr__',\n",
       " '__setitem__',\n",
       " '__sizeof__',\n",
       " '__str__',\n",
       " '__subclasshook__',\n",
       " '__weakref__',\n",
       " '_conditional_sum_squares',\n",
       " '_data_attr',\n",
       " '_fit_collinear',\n",
       " '_fit_zeros',\n",
       " '_forecasts_error_partial_derivatives',\n",
       " '_get_exog_names',\n",
       " '_get_index_label_loc',\n",
       " '_get_index_loc',\n",
       " '_get_init_kwds',\n",
       " '_get_model_names',\n",
       " '_get_prediction_index',\n",
       " '_handle_data',\n",
       " '_hessian_complex_step',\n",
       " '_hessian_finite_difference',\n",
       " '_hessian_oim',\n",
       " '_hessian_opg',\n",
       " '_hessian_param_defaults',\n",
       " '_hessian_param_names',\n",
       " '_index',\n",
       " '_index_dates',\n",
       " '_index_freq',\n",
       " '_index_generated',\n",
       " '_index_inferred_freq',\n",
       " '_index_none',\n",
       " '_init_dates',\n",
       " '_init_keys',\n",
       " '_init_kwargs',\n",
       " '_k_diff',\n",
       " '_k_order',\n",
       " '_k_seasonal_diff',\n",
       " '_k_states_diff',\n",
       " '_loglike_param_defaults',\n",
       " '_loglike_param_names',\n",
       " '_polynomial_ar',\n",
       " '_polynomial_ar_idx',\n",
       " '_polynomial_ma',\n",
       " '_polynomial_ma_idx',\n",
       " '_polynomial_seasonal_ar',\n",
       " '_polynomial_seasonal_ar_idx',\n",
       " '_polynomial_seasonal_ma',\n",
       " '_polynomial_seasonal_ma_idx',\n",
       " '_polynomial_trend',\n",
       " '_res_classes',\n",
       " '_score_complex_step',\n",
       " '_score_finite_difference',\n",
       " '_score_harvey',\n",
       " '_score_obs_harvey',\n",
       " '_score_param_defaults',\n",
       " '_score_param_names',\n",
       " '_set_exog_names',\n",
       " '_trend_data',\n",
       " '_wrap_results',\n",
       " 'concentrate_scale',\n",
       " 'data',\n",
       " 'endog',\n",
       " 'endog_names',\n",
       " 'enforce_invertibility',\n",
       " 'enforce_stationarity',\n",
       " 'exog',\n",
       " 'exog_names',\n",
       " 'filter',\n",
       " 'fit',\n",
       " 'from_formula',\n",
       " 'hamilton_representation',\n",
       " 'hessian',\n",
       " 'impulse_responses',\n",
       " 'information',\n",
       " 'initial_design',\n",
       " 'initial_selection',\n",
       " 'initial_state_intercept',\n",
       " 'initial_transition',\n",
       " 'initial_variance',\n",
       " 'initialization',\n",
       " 'initialize',\n",
       " 'initialize_approximate_diffuse',\n",
       " 'initialize_default',\n",
       " 'initialize_known',\n",
       " 'initialize_statespace',\n",
       " 'initialize_stationary',\n",
       " 'k_ar',\n",
       " 'k_ar_params',\n",
       " 'k_constant',\n",
       " 'k_diff',\n",
       " 'k_endog',\n",
       " 'k_exog',\n",
       " 'k_ma',\n",
       " 'k_ma_params',\n",
       " 'k_params',\n",
       " 'k_posdef',\n",
       " 'k_seasonal_ar',\n",
       " 'k_seasonal_ar_params',\n",
       " 'k_seasonal_diff',\n",
       " 'k_seasonal_ma',\n",
       " 'k_seasonal_ma_params',\n",
       " 'k_states',\n",
       " 'k_trend',\n",
       " 'loglike',\n",
       " 'loglikelihood_burn',\n",
       " 'loglikeobs',\n",
       " 'measurement_error',\n",
       " 'mle_regression',\n",
       " 'model_latex_names',\n",
       " 'model_names',\n",
       " 'model_orders',\n",
       " 'nobs',\n",
       " 'observed_information_matrix',\n",
       " 'opg_information_matrix',\n",
       " 'order',\n",
       " 'orig_endog',\n",
       " 'orig_exog',\n",
       " 'orig_k_diff',\n",
       " 'orig_k_seasonal_diff',\n",
       " 'param_names',\n",
       " 'param_terms',\n",
       " 'params_complete',\n",
       " 'polynomial_ar',\n",
       " 'polynomial_ma',\n",
       " 'polynomial_seasonal_ar',\n",
       " 'polynomial_seasonal_ma',\n",
       " 'polynomial_trend',\n",
       " 'predict',\n",
       " 'prepare_data',\n",
       " 'score',\n",
       " 'score_obs',\n",
       " 'seasonal_order',\n",
       " 'seasonal_periods',\n",
       " 'selection_ma_params_idx',\n",
       " 'set_conserve_memory',\n",
       " 'set_filter_method',\n",
       " 'set_inversion_method',\n",
       " 'set_smoother_output',\n",
       " 'set_stability_method',\n",
       " 'simple_differencing',\n",
       " 'simulate',\n",
       " 'simulation_smoother',\n",
       " 'smooth',\n",
       " 'ssm',\n",
       " 'start_params',\n",
       " 'state_error',\n",
       " 'state_regression',\n",
       " 'time_varying_regression',\n",
       " 'tolerance',\n",
       " 'transform_jacobian',\n",
       " 'transform_params',\n",
       " 'transition_ar_params_idx',\n",
       " 'trend',\n",
       " 'untransform_params',\n",
       " 'update']"
      ]
     },
     "execution_count": 36,
     "metadata": {},
     "output_type": "execute_result"
    }
   ],
   "source": [
    "dir(model)"
   ]
  },
  {
   "cell_type": "code",
   "execution_count": 38,
   "id": "dde1702b",
   "metadata": {},
   "outputs": [
    {
     "data": {
      "text/plain": [
       "['DEFAULT_CPU_CLUSTER_CONFIGURATION',\n",
       " 'DEFAULT_CPU_CLUSTER_NAME',\n",
       " 'DEFAULT_GPU_CLUSTER_CONFIGURATION',\n",
       " 'DEFAULT_GPU_CLUSTER_NAME',\n",
       " '__class__',\n",
       " '__delattr__',\n",
       " '__dict__',\n",
       " '__dir__',\n",
       " '__doc__',\n",
       " '__eq__',\n",
       " '__format__',\n",
       " '__ge__',\n",
       " '__getattribute__',\n",
       " '__gt__',\n",
       " '__hash__',\n",
       " '__init__',\n",
       " '__init_subclass__',\n",
       " '__le__',\n",
       " '__lt__',\n",
       " '__module__',\n",
       " '__ne__',\n",
       " '__new__',\n",
       " '__reduce__',\n",
       " '__reduce_ex__',\n",
       " '__repr__',\n",
       " '__setattr__',\n",
       " '__sizeof__',\n",
       " '__str__',\n",
       " '__subclasshook__',\n",
       " '__weakref__',\n",
       " '_auth',\n",
       " '_auth_object',\n",
       " '_create_legacy',\n",
       " '_discovery_url_internal',\n",
       " '_fetch_subscriptions',\n",
       " '_from_service_context',\n",
       " '_get_create_status_dict',\n",
       " '_get_or_create',\n",
       " '_get_resource_name_from_workspace_name',\n",
       " '_get_scope_details',\n",
       " '_get_workspace_from_autorest_workspace',\n",
       " '_initialize_folder',\n",
       " '_internal_sdk_telemetry_app_insights_key',\n",
       " '_list_legacy',\n",
       " '_location',\n",
       " '_process_autorest_workspace_list',\n",
       " '_rand_gen',\n",
       " '_resource_group',\n",
       " '_sdk_telemetry_app_insights_key',\n",
       " '_service_context',\n",
       " '_share',\n",
       " '_sku',\n",
       " '_subscription_id',\n",
       " '_sync_keys',\n",
       " '_tags',\n",
       " '_to_dict',\n",
       " '_workspace_autorest_object',\n",
       " '_workspace_id',\n",
       " '_workspace_id_internal',\n",
       " '_workspace_name',\n",
       " '_workspace_parameters_input',\n",
       " 'add_private_endpoint',\n",
       " 'compute_targets',\n",
       " 'create',\n",
       " 'datasets',\n",
       " 'datastores',\n",
       " 'delete',\n",
       " 'delete_connection',\n",
       " 'delete_private_endpoint_connection',\n",
       " 'discovery_url',\n",
       " 'environments',\n",
       " 'experiments',\n",
       " 'from_config',\n",
       " 'get',\n",
       " 'get_connection',\n",
       " 'get_default_compute_target',\n",
       " 'get_default_datastore',\n",
       " 'get_default_keyvault',\n",
       " 'get_details',\n",
       " 'get_mlflow_tracking_uri',\n",
       " 'get_run',\n",
       " 'images',\n",
       " 'linked_services',\n",
       " 'list',\n",
       " 'list_connections',\n",
       " 'list_keys',\n",
       " 'location',\n",
       " 'models',\n",
       " 'name',\n",
       " 'private_endpoints',\n",
       " 'resource_group',\n",
       " 'service_context',\n",
       " 'set_connection',\n",
       " 'set_default_datastore',\n",
       " 'setup',\n",
       " 'sku',\n",
       " 'subscription_id',\n",
       " 'sync_keys',\n",
       " 'tags',\n",
       " 'update',\n",
       " 'update_dependencies',\n",
       " 'webservices',\n",
       " 'write_config']"
      ]
     },
     "execution_count": 38,
     "metadata": {},
     "output_type": "execute_result"
    }
   ],
   "source": [
    "import azureml.core\n",
    "from azureml.core import Workspace\n",
    "ws = Workspace.from_config()\n",
    "dir(ws)"
   ]
  },
  {
   "cell_type": "code",
   "execution_count": 39,
   "id": "43d6c999",
   "metadata": {},
   "outputs": [
    {
     "data": {
      "text/plain": [
       "'shaktiman'"
      ]
     },
     "execution_count": 39,
     "metadata": {},
     "output_type": "execute_result"
    }
   ],
   "source": [
    "ws.name"
   ]
  },
  {
   "cell_type": "code",
   "execution_count": 40,
   "id": "1e67dd43",
   "metadata": {},
   "outputs": [
    {
     "data": {
      "text/plain": [
       "'eastus2'"
      ]
     },
     "execution_count": 40,
     "metadata": {},
     "output_type": "execute_result"
    }
   ],
   "source": [
    "ws.location"
   ]
  },
  {
   "cell_type": "code",
   "execution_count": 41,
   "id": "548c3abf",
   "metadata": {},
   "outputs": [
    {
     "data": {
      "text/plain": [
       "['model.pkl']"
      ]
     },
     "execution_count": 41,
     "metadata": {},
     "output_type": "execute_result"
    }
   ],
   "source": [
    "import joblib\n",
    "joblib.dump(model, 'model.pkl')"
   ]
  },
  {
   "cell_type": "code",
   "execution_count": 42,
   "id": "c3fc5681",
   "metadata": {},
   "outputs": [
    {
     "name": "stdout",
     "output_type": "stream",
     "text": [
      "Users  model.pkl  timeseries.ipynb\r\n"
     ]
    }
   ],
   "source": [
    "!ls"
   ]
  },
  {
   "cell_type": "code",
   "execution_count": 44,
   "id": "7be448f1",
   "metadata": {},
   "outputs": [
    {
     "name": "stdout",
     "output_type": "stream",
     "text": [
      "Registering model todaysmodel_random\n"
     ]
    }
   ],
   "source": [
    "from azureml.core.model import Model\n",
    "model_img = Model.register(model_path=\"model.pkl\",\n",
    "                          model_name=\"todaysmodel_random\",\n",
    "                          tags={'version':'1.0.2'},\n",
    "                          workspace=ws)\n"
   ]
  },
  {
   "cell_type": "code",
   "execution_count": null,
   "id": "1c32dc92",
   "metadata": {},
   "outputs": [],
   "source": []
  }
 ],
 "metadata": {
  "kernelspec": {
   "display_name": "Python 3",
   "language": "python",
   "name": "python3"
  },
  "language_info": {
   "codemirror_mode": {
    "name": "ipython",
    "version": 3
   },
   "file_extension": ".py",
   "mimetype": "text/x-python",
   "name": "python",
   "nbconvert_exporter": "python",
   "pygments_lexer": "ipython3",
   "version": "3.6.9"
  }
 },
 "nbformat": 4,
 "nbformat_minor": 5
}
