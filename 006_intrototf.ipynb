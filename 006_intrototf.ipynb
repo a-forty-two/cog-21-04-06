{
 "cells": [
  {
   "cell_type": "code",
   "execution_count": 1,
   "metadata": {},
   "outputs": [],
   "source": [
    "# the data that we work with\n",
    "# Statisitical -> Exploratory Data Analysis\n",
    "\n",
    "import numpy as np\n",
    "import matplotlib.pyplot as plt"
   ]
  },
  {
   "cell_type": "code",
   "execution_count": 3,
   "metadata": {},
   "outputs": [],
   "source": [
    "\n",
    "p1 = [200,200]\n",
    "p2 = [200, 0]\n",
    "p3 = [0, 200]\n",
    "p4 = [0,0]\n",
    "# 2X 1 -> 1 row of image\n",
    "# 2 such rows can then form a square image\n",
    "\n",
    "i1 = np.array([np.array(p1), np.array(p4)])\n",
    "i2 = np.array([np.array(p2), np.array(p2)])\n",
    "i3 = np.array([np.array(p2), np.array(p3)])\n",
    "\n",
    "\n",
    "# 0-> 1 type of color\n",
    "# Non-zero value-> 2nd type of color"
   ]
  },
  {
   "cell_type": "code",
   "execution_count": 4,
   "metadata": {},
   "outputs": [
    {
     "data": {
      "text/plain": [
       "<matplotlib.image.AxesImage at 0x7f518f5c2240>"
      ]
     },
     "execution_count": 4,
     "metadata": {},
     "output_type": "execute_result"
    },
    {
     "data": {
      "image/png": "[encoded data removed]",
      "text/plain": [
       "<Figure size 432x288 with 1 Axes>"
      ]
     },
     "metadata": {
      "needs_background": "light"
     },
     "output_type": "display_data"
    }
   ],
   "source": [
    "plt.figure() #200-> yellow, 0-> purple\n",
    "plt.imshow(i1) # horizontal"
   ]
  },
  {
   "cell_type": "code",
   "execution_count": 5,
   "metadata": {},
   "outputs": [
    {
     "data": {
      "text/plain": [
       "<matplotlib.image.AxesImage at 0x7f518f4e3be0>"
      ]
     },
     "execution_count": 5,
     "metadata": {},
     "output_type": "execute_result"
    },
    {
     "data": {
      "image/png": "[encoded data removed]",
      "text/plain": [
       "<Figure size 432x288 with 1 Axes>"
      ]
     },
     "metadata": {
      "needs_background": "light"
     },
     "output_type": "display_data"
    }
   ],
   "source": [
    "plt.imshow(i2) # vertical line"
   ]
  },
  {
   "cell_type": "code",
   "execution_count": 6,
   "metadata": {},
   "outputs": [
    {
     "data": {
      "text/plain": [
       "<matplotlib.image.AxesImage at 0x7f518f4d2320>"
      ]
     },
     "execution_count": 6,
     "metadata": {},
     "output_type": "execute_result"
    },
    {
     "data": {
      "image/png": "[encoded data removed]",
      "text/plain": [
       "<Figure size 432x288 with 1 Axes>"
      ]
     },
     "metadata": {
      "needs_background": "light"
     },
     "output_type": "display_data"
    }
   ],
   "source": [
    "plt.imshow(i3) # diagonal"
   ]
  },
  {
   "cell_type": "code",
   "execution_count": 7,
   "metadata": {},
   "outputs": [],
   "source": [
    "# Edge Detection-> expected pixels X very_large_and_very_small_numbers\n",
    "# very large numbers-> for px we want to detect\n",
    "# very small negative numbers-> for px we want to drop\n",
    "\n",
    "# prominent pixels get larger\n",
    "# unwanted pixels become negative\n",
    "\n",
    "# we pass images through filters that allow only positive numbers!"
   ]
  },
  {
   "cell_type": "code",
   "execution_count": 8,
   "metadata": {},
   "outputs": [],
   "source": [
    "kernel_h = np.array([np.array([2,2]), np.array([-2,-2])]) # if pixels are at desired position, the dot product= 800\n",
    "kernel_v = np.array([np.array([2,-2]), np.array([2,-2])])\n",
    "kernel_d = np.array([np.array([2,-2]), np.array([-2,2])])\n"
   ]
  },
  {
   "cell_type": "code",
   "execution_count": 13,
   "metadata": {},
   "outputs": [],
   "source": [
    "def applyFilter(img, kernel):\n",
    "    # dot product\n",
    "    result = np.multiply(img, kernel)\n",
    "    dot_prod = np.sum(result)\n",
    "    return dot_prod"
   ]
  },
  {
   "cell_type": "code",
   "execution_count": 18,
   "metadata": {},
   "outputs": [],
   "source": [
    "\n",
    "\n",
    "kernels = [kernel_h,kernel_v,kernel_d]\n",
    "images = [i1,i2,i3]\n",
    "printstates = ['horizontal', 'vertical', 'diagonal']\n",
    "isKernelFound = lambda val,c: (printstates[c]+' detected') if val==800 else ' not detected'"
   ]
  },
  {
   "cell_type": "code",
   "execution_count": 19,
   "metadata": {},
   "outputs": [
    {
     "name": "stdout",
     "output_type": "stream",
     "text": [
      "Image number :1\n",
      "kernel number = 1\n",
      "horizontal detected\n",
      "kernel number = 2\n",
      " not detected\n",
      "kernel number = 3\n",
      " not detected\n",
      "Image number :2\n",
      "kernel number = 1\n",
      " not detected\n",
      "kernel number = 2\n",
      "vertical detected\n",
      "kernel number = 3\n",
      " not detected\n",
      "Image number :3\n",
      "kernel number = 1\n",
      " not detected\n",
      "kernel number = 2\n",
      " not detected\n",
      "kernel number = 3\n",
      "diagonal detected\n"
     ]
    }
   ],
   "source": [
    "# apply filters to the images\n",
    "for count , img in enumerate(images):\n",
    "    print('Image number :' + str(count+1))\n",
    "    for c2, k in enumerate(kernels):\n",
    "        print('kernel number = ' + str(c2+1))\n",
    "        print(isKernelFound(applyFilter(img, k), c2))"
   ]
  },
  {
   "cell_type": "code",
   "execution_count": null,
   "metadata": {},
   "outputs": [],
   "source": []
  },
  {
   "cell_type": "code",
   "execution_count": null,
   "metadata": {},
   "outputs": [],
   "source": []
  }
 ],
 "metadata": {
  "kernel_info": {
   "name": "python3-azureml"
  },
  "kernelspec": {
   "display_name": "Python 3.6 - AzureML",
   "language": "python",
   "name": "python3-azureml"
  },
  "language_info": {
   "codemirror_mode": {
    "name": "ipython",
    "version": 3
   },
   "file_extension": ".py",
   "mimetype": "text/x-python",
   "name": "python",
   "nbconvert_exporter": "python",
   "pygments_lexer": "ipython3",
   "version": "3.6.9"
  },
  "nteract": {
   "version": "nteract-front-end@1.0.0"
  }
 },
 "nbformat": 4,
 "nbformat_minor": 2
}
