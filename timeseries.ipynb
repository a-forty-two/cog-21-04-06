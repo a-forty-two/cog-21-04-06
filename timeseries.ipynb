{
 "cells": [
  {
   "cell_type": "code",
   "execution_count": 2,
   "id": "e4bed684",
   "metadata": {},
   "outputs": [
    {
     "name": "stdout",
     "output_type": "stream",
     "text": [
      "Users  timeseries.ipynb\r\n"
     ]
    }
   ],
   "source": [
    "!ls"
   ]
  },
  {
   "cell_type": "code",
   "execution_count": 3,
   "id": "19481e09",
   "metadata": {},
   "outputs": [
    {
     "data": {
      "text/html": [
       "<div>\n",
       "<style scoped>\n",
       "    .dataframe tbody tr th:only-of-type {\n",
       "        vertical-align: middle;\n",
       "    }\n",
       "\n",
       "    .dataframe tbody tr th {\n",
       "        vertical-align: top;\n",
       "    }\n",
       "\n",
       "    .dataframe thead th {\n",
       "        text-align: right;\n",
       "    }\n",
       "</style>\n",
       "<table border=\"1\" class=\"dataframe\">\n",
       "  <thead>\n",
       "    <tr style=\"text-align: right;\">\n",
       "      <th></th>\n",
       "      <th>Row ID</th>\n",
       "      <th>Order ID</th>\n",
       "      <th>Order Date</th>\n",
       "      <th>Sales</th>\n",
       "      <th>Profit</th>\n",
       "      <th>Column24</th>\n",
       "    </tr>\n",
       "  </thead>\n",
       "  <tbody>\n",
       "    <tr>\n",
       "      <th>2016-11-08</th>\n",
       "      <td>1</td>\n",
       "      <td>CA-2016-152156</td>\n",
       "      <td>2016-11-08</td>\n",
       "      <td>261.9600</td>\n",
       "      <td>41.9136</td>\n",
       "      <td>None</td>\n",
       "    </tr>\n",
       "    <tr>\n",
       "      <th>2016-11-08</th>\n",
       "      <td>2</td>\n",
       "      <td>CA-2016-152156</td>\n",
       "      <td>2016-11-08</td>\n",
       "      <td>731.9400</td>\n",
       "      <td>219.5820</td>\n",
       "      <td>None</td>\n",
       "    </tr>\n",
       "    <tr>\n",
       "      <th>2016-06-12</th>\n",
       "      <td>3</td>\n",
       "      <td>CA-2016-138688</td>\n",
       "      <td>2016-06-12</td>\n",
       "      <td>14.6200</td>\n",
       "      <td>6.8714</td>\n",
       "      <td>None</td>\n",
       "    </tr>\n",
       "    <tr>\n",
       "      <th>2015-10-11</th>\n",
       "      <td>4</td>\n",
       "      <td>US-2015-108966</td>\n",
       "      <td>2015-10-11</td>\n",
       "      <td>957.5775</td>\n",
       "      <td>-383.0310</td>\n",
       "      <td>None</td>\n",
       "    </tr>\n",
       "    <tr>\n",
       "      <th>2015-10-11</th>\n",
       "      <td>5</td>\n",
       "      <td>US-2015-108966</td>\n",
       "      <td>2015-10-11</td>\n",
       "      <td>22.3680</td>\n",
       "      <td>2.5164</td>\n",
       "      <td>None</td>\n",
       "    </tr>\n",
       "  </tbody>\n",
       "</table>\n",
       "</div>"
      ],
      "text/plain": [
       "            Row ID        Order ID Order Date     Sales    Profit Column24\n",
       "2016-11-08       1  CA-2016-152156 2016-11-08  261.9600   41.9136     None\n",
       "2016-11-08       2  CA-2016-152156 2016-11-08  731.9400  219.5820     None\n",
       "2016-06-12       3  CA-2016-138688 2016-06-12   14.6200    6.8714     None\n",
       "2015-10-11       4  US-2015-108966 2015-10-11  957.5775 -383.0310     None\n",
       "2015-10-11       5  US-2015-108966 2015-10-11   22.3680    2.5164     None"
      ]
     },
     "execution_count": 3,
     "metadata": {},
     "output_type": "execute_result"
    }
   ],
   "source": [
    "# azureml-core of version 1.0.72 or higher is required\n",
    "# azureml-dataprep[pandas] of version 1.1.34 or higher is required\n",
    "from azureml.core import Workspace, Dataset\n",
    "\n",
    "subscription_id = '73e2b9e2-1b33-4342-888f-25aca2d5563f'\n",
    "resource_group = 'domado'\n",
    "workspace_name = 'shaktiman'\n",
    "\n",
    "workspace = Workspace(subscription_id, resource_group, workspace_name)\n",
    "\n",
    "dataset = Dataset.get_by_name(workspace, name='superstoredataset')\n",
    "df = dataset.to_pandas_dataframe()\n",
    "df.head()"
   ]
  },
  {
   "cell_type": "code",
   "execution_count": 4,
   "id": "905f6c3f",
   "metadata": {},
   "outputs": [],
   "source": [
    "import warnings\n",
    "warnings.filterwarnings(\"ignore\")\n",
    "import itertools # Truth tables, series -> iterations \n",
    "import numpy as np\n",
    "import matplotlib.pyplot as plt\n",
    "import matplotlib\n",
    "# Jupyter-> specific\n",
    "%matplotlib inline\n",
    "\n",
    "#Timeseries models\n",
    "import statsmodels.api as sm"
   ]
  },
  {
   "cell_type": "code",
   "execution_count": 5,
   "id": "d08b60ce",
   "metadata": {},
   "outputs": [
    {
     "data": {
      "text/plain": [
       "9994"
      ]
     },
     "execution_count": 5,
     "metadata": {},
     "output_type": "execute_result"
    }
   ],
   "source": [
    "len(df)"
   ]
  },
  {
   "cell_type": "code",
   "execution_count": 8,
   "id": "d660b9a0",
   "metadata": {},
   "outputs": [
    {
     "data": {
      "text/html": [
       "<div>\n",
       "<style scoped>\n",
       "    .dataframe tbody tr th:only-of-type {\n",
       "        vertical-align: middle;\n",
       "    }\n",
       "\n",
       "    .dataframe tbody tr th {\n",
       "        vertical-align: top;\n",
       "    }\n",
       "\n",
       "    .dataframe thead th {\n",
       "        text-align: right;\n",
       "    }\n",
       "</style>\n",
       "<table border=\"1\" class=\"dataframe\">\n",
       "  <thead>\n",
       "    <tr style=\"text-align: right;\">\n",
       "      <th></th>\n",
       "      <th>Order Date</th>\n",
       "      <th>Sales</th>\n",
       "    </tr>\n",
       "  </thead>\n",
       "  <tbody>\n",
       "    <tr>\n",
       "      <th>1232</th>\n",
       "      <td>2017-12-26</td>\n",
       "      <td>769.8440</td>\n",
       "    </tr>\n",
       "    <tr>\n",
       "      <th>1233</th>\n",
       "      <td>2017-12-27</td>\n",
       "      <td>177.6360</td>\n",
       "    </tr>\n",
       "    <tr>\n",
       "      <th>1234</th>\n",
       "      <td>2017-12-28</td>\n",
       "      <td>1657.3508</td>\n",
       "    </tr>\n",
       "    <tr>\n",
       "      <th>1235</th>\n",
       "      <td>2017-12-29</td>\n",
       "      <td>2915.5340</td>\n",
       "    </tr>\n",
       "    <tr>\n",
       "      <th>1236</th>\n",
       "      <td>2017-12-30</td>\n",
       "      <td>713.7900</td>\n",
       "    </tr>\n",
       "  </tbody>\n",
       "</table>\n",
       "</div>"
      ],
      "text/plain": [
       "     Order Date      Sales\n",
       "1232 2017-12-26   769.8440\n",
       "1233 2017-12-27   177.6360\n",
       "1234 2017-12-28  1657.3508\n",
       "1235 2017-12-29  2915.5340\n",
       "1236 2017-12-30   713.7900"
      ]
     },
     "execution_count": 8,
     "metadata": {},
     "output_type": "execute_result"
    }
   ],
   "source": [
    "data = df.groupby('Order Date')\n",
    "data_grouped_sales = data['Sales'].sum().reset_index()\n",
    "data_grouped_profit = data['Profit'].sum().reset_index()\n",
    "data_grouped_sales.tail()"
   ]
  },
  {
   "cell_type": "code",
   "execution_count": 11,
   "id": "21525343",
   "metadata": {},
   "outputs": [
    {
     "data": {
      "text/html": [
       "<div>\n",
       "<style scoped>\n",
       "    .dataframe tbody tr th:only-of-type {\n",
       "        vertical-align: middle;\n",
       "    }\n",
       "\n",
       "    .dataframe tbody tr th {\n",
       "        vertical-align: top;\n",
       "    }\n",
       "\n",
       "    .dataframe thead th {\n",
       "        text-align: right;\n",
       "    }\n",
       "</style>\n",
       "<table border=\"1\" class=\"dataframe\">\n",
       "  <thead>\n",
       "    <tr style=\"text-align: right;\">\n",
       "      <th></th>\n",
       "      <th>Order Date</th>\n",
       "      <th>Profit</th>\n",
       "    </tr>\n",
       "  </thead>\n",
       "  <tbody>\n",
       "    <tr>\n",
       "      <th>0</th>\n",
       "      <td>2014-01-03</td>\n",
       "      <td>0.2000</td>\n",
       "    </tr>\n",
       "    <tr>\n",
       "      <th>1</th>\n",
       "      <td>2014-01-04</td>\n",
       "      <td>-65.9901</td>\n",
       "    </tr>\n",
       "    <tr>\n",
       "      <th>2</th>\n",
       "      <td>2014-01-05</td>\n",
       "      <td>4.8840</td>\n",
       "    </tr>\n",
       "    <tr>\n",
       "      <th>3</th>\n",
       "      <td>2014-01-06</td>\n",
       "      <td>1358.0524</td>\n",
       "    </tr>\n",
       "    <tr>\n",
       "      <th>4</th>\n",
       "      <td>2014-01-07</td>\n",
       "      <td>-53.7096</td>\n",
       "    </tr>\n",
       "    <tr>\n",
       "      <th>5</th>\n",
       "      <td>2014-01-09</td>\n",
       "      <td>10.9180</td>\n",
       "    </tr>\n",
       "    <tr>\n",
       "      <th>6</th>\n",
       "      <td>2014-01-10</td>\n",
       "      <td>22.6537</td>\n",
       "    </tr>\n",
       "    <tr>\n",
       "      <th>7</th>\n",
       "      <td>2014-01-11</td>\n",
       "      <td>3.0814</td>\n",
       "    </tr>\n",
       "  </tbody>\n",
       "</table>\n",
       "</div>"
      ],
      "text/plain": [
       "  Order Date     Profit\n",
       "0 2014-01-03     0.2000\n",
       "1 2014-01-04   -65.9901\n",
       "2 2014-01-05     4.8840\n",
       "3 2014-01-06  1358.0524\n",
       "4 2014-01-07   -53.7096\n",
       "5 2014-01-09    10.9180\n",
       "6 2014-01-10    22.6537\n",
       "7 2014-01-11     3.0814"
      ]
     },
     "execution_count": 11,
     "metadata": {},
     "output_type": "execute_result"
    }
   ],
   "source": [
    "data_grouped_profit.head(8)\n",
    "# there are DATES for which data is missing "
   ]
  },
  {
   "cell_type": "code",
   "execution_count": 12,
   "id": "ce4dff2e",
   "metadata": {},
   "outputs": [],
   "source": [
    "data = data_grouped_sales.set_index('Order Date') # main dataset remains unchanged\n",
    "# data_grouped_sales.set_index('Order Date', inplace=True) # index changed on main dataset itself"
   ]
  },
  {
   "cell_type": "code",
   "execution_count": 13,
   "id": "7fd8a9ad",
   "metadata": {},
   "outputs": [
    {
     "data": {
      "text/html": [
       "<div>\n",
       "<style scoped>\n",
       "    .dataframe tbody tr th:only-of-type {\n",
       "        vertical-align: middle;\n",
       "    }\n",
       "\n",
       "    .dataframe tbody tr th {\n",
       "        vertical-align: top;\n",
       "    }\n",
       "\n",
       "    .dataframe thead th {\n",
       "        text-align: right;\n",
       "    }\n",
       "</style>\n",
       "<table border=\"1\" class=\"dataframe\">\n",
       "  <thead>\n",
       "    <tr style=\"text-align: right;\">\n",
       "      <th></th>\n",
       "      <th>Sales</th>\n",
       "    </tr>\n",
       "    <tr>\n",
       "      <th>Order Date</th>\n",
       "      <th></th>\n",
       "    </tr>\n",
       "  </thead>\n",
       "  <tbody>\n",
       "    <tr>\n",
       "      <th>2014-01-03</th>\n",
       "      <td>0.000</td>\n",
       "    </tr>\n",
       "    <tr>\n",
       "      <th>2014-01-04</th>\n",
       "      <td>288.060</td>\n",
       "    </tr>\n",
       "    <tr>\n",
       "      <th>2014-01-05</th>\n",
       "      <td>19.536</td>\n",
       "    </tr>\n",
       "    <tr>\n",
       "      <th>2014-01-06</th>\n",
       "      <td>4407.100</td>\n",
       "    </tr>\n",
       "    <tr>\n",
       "      <th>2014-01-07</th>\n",
       "      <td>83.728</td>\n",
       "    </tr>\n",
       "  </tbody>\n",
       "</table>\n",
       "</div>"
      ],
      "text/plain": [
       "               Sales\n",
       "Order Date          \n",
       "2014-01-03     0.000\n",
       "2014-01-04   288.060\n",
       "2014-01-05    19.536\n",
       "2014-01-06  4407.100\n",
       "2014-01-07    83.728"
      ]
     },
     "execution_count": 13,
     "metadata": {},
     "output_type": "execute_result"
    }
   ],
   "source": [
    "data.head()"
   ]
  },
  {
   "cell_type": "code",
   "execution_count": 14,
   "id": "9c1acabc",
   "metadata": {},
   "outputs": [
    {
     "data": {
      "text/plain": [
       "Order Date\n",
       "2014-01-01     643.541773\n",
       "2014-02-01     205.990800\n",
       "2014-03-01    2308.618625\n",
       "2014-04-01    1172.193708\n",
       "2014-05-01     844.095250\n",
       "Freq: MS, Name: Sales, dtype: float64"
      ]
     },
     "execution_count": 14,
     "metadata": {},
     "output_type": "execute_result"
    }
   ],
   "source": [
    "y = data['Sales'].resample('MS').mean()\n",
    "y.head()\n",
    "#every month has some datapoint"
   ]
  },
  {
   "cell_type": "code",
   "execution_count": 15,
   "id": "4b057694",
   "metadata": {},
   "outputs": [
    {
     "data": {
      "text/plain": [
       "Timestamp('2014-01-01 00:00:00')"
      ]
     },
     "execution_count": 15,
     "metadata": {},
     "output_type": "execute_result"
    }
   ],
   "source": [
    "y.index.min()"
   ]
  },
  {
   "cell_type": "code",
   "execution_count": 16,
   "id": "84c7fe19",
   "metadata": {},
   "outputs": [
    {
     "data": {
      "text/plain": [
       "Timestamp('2017-12-01 00:00:00')"
      ]
     },
     "execution_count": 16,
     "metadata": {},
     "output_type": "execute_result"
    }
   ],
   "source": [
    "y.index.max()"
   ]
  },
  {
   "cell_type": "code",
   "execution_count": 17,
   "id": "80fb6564",
   "metadata": {},
   "outputs": [
    {
     "data": {
      "text/plain": [
       "48"
      ]
     },
     "execution_count": 17,
     "metadata": {},
     "output_type": "execute_result"
    }
   ],
   "source": [
    "len(y)\n",
    "# Confidence-> No longer MISSING DATA POINTS!!!"
   ]
  },
  {
   "cell_type": "code",
   "execution_count": 18,
   "id": "aced8ded",
   "metadata": {},
   "outputs": [
    {
     "data": {
      "image/png": "[encoded data removed]",
      "text/plain": [
       "<Figure size 1440x360 with 1 Axes>"
      ]
     },
     "metadata": {
      "needs_background": "light"
     },
     "output_type": "display_data"
    }
   ],
   "source": [
    "plt.figure()\n",
    "y.plot(figsize=(20,5))\n",
    "plt.show()"
   ]
  },
  {
   "cell_type": "code",
   "execution_count": 23,
   "id": "97f0389c",
   "metadata": {},
   "outputs": [
    {
     "data": {
      "image/png": "[encoded data removed]",
      "text/plain": [
       "<Figure size 432x288 with 4 Axes>"
      ]
     },
     "metadata": {
      "needs_background": "light"
     },
     "output_type": "display_data"
    }
   ],
   "source": [
    "# COMPLEX GRAPH\n",
    "# Decompose The GRAPH\n",
    "# 3 entities\n",
    "# ORIGINAL_GRAPH = PATTERN_PERIOD_GRAPH + TREND_SLOPE + RESIDUE_or_NOISE \n",
    "# ORIGINAL_GRAPH = repeating pattern + direction_of_progression + whatever_is_left! \n",
    "\n",
    "decomp_graph = sm.tsa.seasonal_decompose(y, model='additive')\n",
    "fig = decomp_graph.plot()\n",
    "plt.show()"
   ]
  },
  {
   "cell_type": "code",
   "execution_count": 24,
   "id": "3dc1eb7b",
   "metadata": {},
   "outputs": [],
   "source": [
    "# vector\n",
    "# v1 = v2 + v3\n",
    "# i + j   =   (2i + 2j) +  (-j-i)\n",
    "\n",
    "# HYPERPARAMETERS-> we set \n",
    "\n",
    "# (p,d,q) -> Auto Regression integrated seasons with Moving Averages \n",
    "# (p d q) X S (p,d,q)-> Seasonal ARIMAX\n",
    "# Akaike Info Criterion-> AIC Score (ERROR)\n",
    "# (1 0 1) X 1 (1 1 1 ) => AIC_score1\n",
    "# (1 1 1) X 1 (0 0 1)  => AIC_score2\n",
    "\n",
    "# best algorithm will be the combination of (pdq)XS(pdq) where the value of AIC is minimum \n",
    "\n",
    "# exhaustive TRUTH table that could have been formed\n",
    "# HYPERPARAMETER OPTIMIZATION\n",
    "\n",
    "# Grid SEARCH-> exhaustively creates EVERY possible combination of HPs\n",
    "# typically used for discrete values\n",
    "# returns the BEST possible HP set\n",
    "\n",
    "# Randomized Search-> infinite answers possible-> WORKABLE set of HPs instead of the best pair\n",
    "# (which could've taken infinite time!)\n",
    "\n",
    "# Bayesian Search-> next HP set will be selected probabilistically "
   ]
  },
  {
   "cell_type": "code",
   "execution_count": 25,
   "id": "4ecd310d",
   "metadata": {},
   "outputs": [
    {
     "name": "stdout",
     "output_type": "stream",
     "text": [
      "[(0, 0, 0), (0, 0, 1), (0, 1, 0), (0, 1, 1), (1, 0, 0), (1, 0, 1), (1, 1, 0), (1, 1, 1)]\n"
     ]
    }
   ],
   "source": [
    "p=d=q = range(0,2)\n",
    "pdq = list(itertools.product(p,d,q))\n",
    "print(pdq)\n",
    "# 0-> dont use this HP\n",
    "# 1 -> use this HP!\n",
    "# good for ARIMAX"
   ]
  },
  {
   "cell_type": "code",
   "execution_count": 26,
   "id": "ad3c843a",
   "metadata": {},
   "outputs": [
    {
     "name": "stdout",
     "output_type": "stream",
     "text": [
      "SARIMAX individual model = (1, 0, 1) X (0, 0, 0, 12) \n",
      "SARIMAX individual model = (1, 0, 1) X (0, 0, 1, 12) \n",
      "SARIMAX individual model = (1, 0, 1) X (0, 1, 0, 12) \n",
      "SARIMAX individual model = (1, 0, 1) X (0, 1, 1, 12) \n",
      "SARIMAX individual model = (1, 0, 1) X (1, 0, 0, 12) \n"
     ]
    }
   ],
   "source": [
    "# seasons-> manually decide the time frame of repeating!\n",
    "# 1 year as REPEAT of seasons \n",
    "\n",
    "seasons = 12 # collection of 12 x-axis values (monthly) to be considered as 1 PERIOD\n",
    "\n",
    "seasonpdq =  [ (x[0],x[1],x[2], seasons)  for x in pdq ]\n",
    "\n",
    "pdq_idx = 5\n",
    "\n",
    "for season_idx in range(5):\n",
    "    print('SARIMAX individual model = {} X {} '.format(pdq[pdq_idx], seasonpdq[season_idx]))\n"
   ]
  },
  {
   "cell_type": "code",
   "execution_count": 27,
   "id": "94b97510",
   "metadata": {},
   "outputs": [],
   "source": [
    "min_pdq = (999,999,999)\n",
    "min_spdq = (999,999,999, 12)\n",
    "min_AIC = 999\n"
   ]
  },
  {
   "cell_type": "code",
   "execution_count": 29,
   "id": "02aa3102",
   "metadata": {},
   "outputs": [
    {
     "name": "stdout",
     "output_type": "stream",
     "text": [
      "model 1= (0, 0, 0) X (0, 0, 0, 12) , AIC = 865.2629100380259 \n",
      "model 2= (0, 0, 0) X (0, 0, 1, 12) , AIC = 833.9872755473847 \n",
      "model 3= (0, 0, 0) X (0, 1, 0, 12) , AIC = 556.9828893725455 \n",
      "maxlag should be < nobs\n",
      "model 4= (0, 0, 0) X (1, 0, 0, 12) , AIC = 775.427830945678 \n",
      "model 5= (0, 0, 0) X (1, 0, 1, 12) , AIC = 776.6820439955138 \n",
      "model 6= (0, 0, 0) X (1, 1, 0, 12) , AIC = 557.986488358641 \n",
      "maxlag should be < nobs\n",
      "model 7= (0, 0, 1) X (0, 0, 0, 12) , AIC = 833.820348623311 \n",
      "model 8= (0, 0, 1) X (0, 0, 1, 12) , AIC = 808.4207941703752 \n",
      "model 9= (0, 0, 1) X (0, 1, 0, 12) , AIC = 558.1204753173972 \n",
      "maxlag should be < nobs\n",
      "model 10= (0, 0, 1) X (1, 0, 0, 12) , AIC = 821.5559275770008 \n",
      "model 11= (0, 0, 1) X (1, 0, 1, 12) , AIC = 771.0247947608273 \n",
      "model 12= (0, 0, 1) X (1, 1, 0, 12) , AIC = 558.1927367820151 \n",
      "maxlag should be < nobs\n",
      "model 13= (0, 1, 0) X (0, 0, 0, 12) , AIC = 776.7991797119755 \n",
      "model 14= (0, 1, 0) X (0, 0, 1, 12) , AIC = 767.5994000688486 \n",
      "model 15= (0, 1, 0) X (0, 1, 0, 12) , AIC = 559.5752460717016 \n",
      "maxlag should be < nobs\n",
      "model 16= (0, 1, 0) X (1, 0, 0, 12) , AIC = 758.5462742076534 \n",
      "model 17= (0, 1, 0) X (1, 0, 1, 12) , AIC = 755.4298109651232 \n",
      "model 18= (0, 1, 0) X (1, 1, 0, 12) , AIC = 552.4326177456984 \n",
      "maxlag should be < nobs\n",
      "model 19= (0, 1, 1) X (0, 0, 0, 12) , AIC = 762.4424670913377 \n",
      "model 20= (0, 1, 1) X (0, 0, 1, 12) , AIC = 750.9296174600634 \n",
      "model 21= (0, 1, 1) X (0, 1, 0, 12) , AIC = 542.404548724503 \n",
      "maxlag should be < nobs\n",
      "model 22= (0, 1, 1) X (1, 0, 0, 12) , AIC = 736.3419177176984 \n",
      "model 23= (0, 1, 1) X (1, 0, 1, 12) , AIC = 733.281078030327 \n",
      "model 24= (0, 1, 1) X (1, 1, 0, 12) , AIC = 535.076313600365 \n",
      "maxlag should be < nobs\n",
      "model 25= (1, 0, 0) X (0, 0, 0, 12) , AIC = 794.1688278007791 \n",
      "model 26= (1, 0, 0) X (0, 0, 1, 12) , AIC = 781.9598623280538 \n",
      "model 27= (1, 0, 0) X (0, 1, 0, 12) , AIC = 557.7718216416222 \n",
      "maxlag should be < nobs\n",
      "model 28= (1, 0, 0) X (1, 0, 0, 12) , AIC = 766.5803773121688 \n",
      "model 29= (1, 0, 0) X (1, 0, 1, 12) , AIC = 763.2925645356755 \n",
      "model 30= (1, 0, 0) X (1, 1, 0, 12) , AIC = 557.2429172795382 \n",
      "maxlag should be < nobs\n",
      "model 31= (1, 0, 1) X (0, 0, 0, 12) , AIC = 782.1539637844685 \n",
      "model 32= (1, 0, 1) X (0, 0, 1, 12) , AIC = 768.6700290548885 \n",
      "model 33= (1, 0, 1) X (0, 1, 0, 12) , AIC = 555.1191650808705 \n",
      "maxlag should be < nobs\n",
      "model 34= (1, 0, 1) X (1, 0, 0, 12) , AIC = 753.542324555267 \n",
      "model 35= (1, 0, 1) X (1, 0, 1, 12) , AIC = 750.5678051008304 \n",
      "model 36= (1, 0, 1) X (1, 1, 0, 12) , AIC = 548.1965852527001 \n",
      "maxlag should be < nobs\n",
      "model 37= (1, 1, 0) X (0, 0, 0, 12) , AIC = 768.0660460822821 \n",
      "model 38= (1, 1, 0) X (0, 0, 1, 12) , AIC = 757.537608807867 \n",
      "model 39= (1, 1, 0) X (0, 1, 0, 12) , AIC = 549.9323906734215 \n",
      "maxlag should be < nobs\n",
      "model 40= (1, 1, 0) X (1, 0, 0, 12) , AIC = 746.4284592008389 \n",
      "model 41= (1, 1, 0) X (1, 0, 1, 12) , AIC = 744.9399656013983 \n",
      "model 42= (1, 1, 0) X (1, 1, 0, 12) , AIC = 544.0346000953903 \n",
      "maxlag should be < nobs\n",
      "model 43= (1, 1, 1) X (0, 0, 0, 12) , AIC = 763.7495885795861 \n",
      "model 44= (1, 1, 1) X (0, 0, 1, 12) , AIC = 752.1558511740188 \n",
      "model 45= (1, 1, 1) X (0, 1, 0, 12) , AIC = 544.3703966153399 \n",
      "maxlag should be < nobs\n",
      "model 46= (1, 1, 1) X (1, 0, 0, 12) , AIC = 738.3177380810514 \n",
      "model 47= (1, 1, 1) X (1, 0, 1, 12) , AIC = 735.2429697293494 \n",
      "model 48= (1, 1, 1) X (1, 1, 0, 12) , AIC = 536.9973003947509 \n",
      "maxlag should be < nobs\n"
     ]
    }
   ],
   "source": [
    "# BUILD all possible models-> 0 .. 1-> discrete\n",
    "counter = 1\n",
    "for param in pdq:\n",
    "    for sparam in seasonpdq:\n",
    "        try:\n",
    "            #some of these time series model-> can result in Div by 0 conditions\n",
    "            # graph crashes and ALGORITHM/MODEL remains complete\n",
    "            # AIC score may not be calculated and an exception might occur\n",
    "            model = sm.tsa.statespace.SARIMAX(y, order=param, seasonal_order=sparam)\n",
    "            predictions = model.fit()\n",
    "            print('model '+ str(counter) + '= {} X {} , AIC = {} '.format(param, sparam, predictions.aic ))\n",
    "            if(predictions.aic < min_AIC):\n",
    "                min_AIC = predictions.aic\n",
    "                min_pdq = param\n",
    "                min_spdq = sparam\n",
    "            \n",
    "            \n",
    "            counter = counter + 1\n",
    "        except Exception as e:\n",
    "            print(e)\n",
    "            continue"
   ]
  },
  {
   "cell_type": "code",
   "execution_count": 30,
   "id": "7aa3219f",
   "metadata": {},
   "outputs": [
    {
     "name": "stdout",
     "output_type": "stream",
     "text": [
      "(0, 1, 1)\n",
      "(1, 1, 0, 12)\n",
      "535.076313600365\n"
     ]
    }
   ],
   "source": [
    "print(min_pdq)\n",
    "print(min_spdq)\n",
    "print(min_AIC)"
   ]
  },
  {
   "cell_type": "code",
   "execution_count": 31,
   "id": "5c4216c4",
   "metadata": {},
   "outputs": [
    {
     "data": {
      "text/html": [
       "<table class=\"simpletable\">\n",
       "<caption>Statespace Model Results</caption>\n",
       "<tr>\n",
       "  <th>Dep. Variable:</th>                <td>Sales</td>             <th>  No. Observations:  </th>    <td>48</td>   \n",
       "</tr>\n",
       "<tr>\n",
       "  <th>Model:</th>           <td>SARIMAX(0, 1, 1)x(1, 1, 0, 12)</td> <th>  Log Likelihood     </th> <td>-264.538</td>\n",
       "</tr>\n",
       "<tr>\n",
       "  <th>Date:</th>                   <td>Fri, 30 Apr 2021</td>        <th>  AIC                </th>  <td>535.076</td>\n",
       "</tr>\n",
       "<tr>\n",
       "  <th>Time:</th>                       <td>13:01:01</td>            <th>  BIC                </th>  <td>539.742</td>\n",
       "</tr>\n",
       "<tr>\n",
       "  <th>Sample:</th>                    <td>01-01-2014</td>           <th>  HQIC               </th>  <td>536.687</td>\n",
       "</tr>\n",
       "<tr>\n",
       "  <th></th>                          <td>- 12-01-2017</td>          <th>                     </th>     <td> </td>   \n",
       "</tr>\n",
       "<tr>\n",
       "  <th>Covariance Type:</th>               <td>opg</td>              <th>                     </th>     <td> </td>   \n",
       "</tr>\n",
       "</table>\n",
       "<table class=\"simpletable\">\n",
       "<tr>\n",
       "      <td></td>        <th>coef</th>     <th>std err</th>      <th>z</th>      <th>P>|z|</th>  <th>[0.025</th>    <th>0.975]</th>  \n",
       "</tr>\n",
       "<tr>\n",
       "  <th>ma.L1</th>    <td>   -0.8806</td> <td>    0.102</td> <td>   -8.615</td> <td> 0.000</td> <td>   -1.081</td> <td>   -0.680</td>\n",
       "</tr>\n",
       "<tr>\n",
       "  <th>ar.S.L12</th> <td>   -0.5524</td> <td>    0.159</td> <td>   -3.476</td> <td> 0.001</td> <td>   -0.864</td> <td>   -0.241</td>\n",
       "</tr>\n",
       "<tr>\n",
       "  <th>sigma2</th>   <td> 1.873e+05</td> <td> 5.52e+04</td> <td>    3.392</td> <td> 0.001</td> <td> 7.91e+04</td> <td> 2.96e+05</td>\n",
       "</tr>\n",
       "</table>\n",
       "<table class=\"simpletable\">\n",
       "<tr>\n",
       "  <th>Ljung-Box (Q):</th>           <td>nan</td> <th>  Jarque-Bera (JB):  </th> <td>0.98</td>\n",
       "</tr>\n",
       "<tr>\n",
       "  <th>Prob(Q):</th>                 <td>nan</td> <th>  Prob(JB):          </th> <td>0.61</td>\n",
       "</tr>\n",
       "<tr>\n",
       "  <th>Heteroskedasticity (H):</th> <td>2.30</td> <th>  Skew:              </th> <td>0.26</td>\n",
       "</tr>\n",
       "<tr>\n",
       "  <th>Prob(H) (two-sided):</th>    <td>0.16</td> <th>  Kurtosis:          </th> <td>2.38</td>\n",
       "</tr>\n",
       "</table><br/><br/>Warnings:<br/>[1] Covariance matrix calculated using the outer product of gradients (complex-step)."
      ],
      "text/plain": [
       "<class 'statsmodels.iolib.summary.Summary'>\n",
       "\"\"\"\n",
       "                                 Statespace Model Results                                 \n",
       "==========================================================================================\n",
       "Dep. Variable:                              Sales   No. Observations:                   48\n",
       "Model:             SARIMAX(0, 1, 1)x(1, 1, 0, 12)   Log Likelihood                -264.538\n",
       "Date:                            Fri, 30 Apr 2021   AIC                            535.076\n",
       "Time:                                    13:01:01   BIC                            539.742\n",
       "Sample:                                01-01-2014   HQIC                           536.687\n",
       "                                     - 12-01-2017                                         \n",
       "Covariance Type:                              opg                                         \n",
       "==============================================================================\n",
       "                 coef    std err          z      P>|z|      [0.025      0.975]\n",
       "------------------------------------------------------------------------------\n",
       "ma.L1         -0.8806      0.102     -8.615      0.000      -1.081      -0.680\n",
       "ar.S.L12      -0.5524      0.159     -3.476      0.001      -0.864      -0.241\n",
       "sigma2      1.873e+05   5.52e+04      3.392      0.001    7.91e+04    2.96e+05\n",
       "===================================================================================\n",
       "Ljung-Box (Q):                         nan   Jarque-Bera (JB):                 0.98\n",
       "Prob(Q):                               nan   Prob(JB):                         0.61\n",
       "Heteroskedasticity (H):               2.30   Skew:                             0.26\n",
       "Prob(H) (two-sided):                  0.16   Kurtosis:                         2.38\n",
       "===================================================================================\n",
       "\n",
       "Warnings:\n",
       "[1] Covariance matrix calculated using the outer product of gradients (complex-step).\n",
       "\"\"\""
      ]
     },
     "execution_count": 31,
     "metadata": {},
     "output_type": "execute_result"
    }
   ],
   "source": [
    "# HP optimization has told you what the best model is\n",
    "# now its our turn to build this best model and apply it\n",
    "model = sm.tsa.statespace.SARIMAX(y, order=min_pdq, seasonal_order=min_spdq)\n",
    "results = model.fit()\n",
    "results.summary()"
   ]
  },
  {
   "cell_type": "code",
   "execution_count": null,
   "id": "4b035bea",
   "metadata": {},
   "outputs": [],
   "source": []
  }
 ],
 "metadata": {
  "kernelspec": {
   "display_name": "Python 3",
   "language": "python",
   "name": "python3"
  },
  "language_info": {
   "codemirror_mode": {
    "name": "ipython",
    "version": 3
   },
   "file_extension": ".py",
   "mimetype": "text/x-python",
   "name": "python",
   "nbconvert_exporter": "python",
   "pygments_lexer": "ipython3",
   "version": "3.6.9"
  }
 },
 "nbformat": 4,
 "nbformat_minor": 5
}
