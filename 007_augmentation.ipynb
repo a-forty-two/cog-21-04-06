{
 "cells": [
  {
   "cell_type": "code",
   "execution_count": 1,
   "metadata": {},
   "outputs": [
    {
     "name": "stdout",
     "output_type": "stream",
     "text": [
      "augmentation.ipynb  augmentation.ipynb.amltmp  whoooo111.jpg\r\n"
     ]
    }
   ],
   "source": [
    "!ls"
   ]
  },
  {
   "cell_type": "code",
   "execution_count": 2,
   "metadata": {},
   "outputs": [
    {
     "name": "stderr",
     "output_type": "stream",
     "text": [
      "Using TensorFlow backend.\n"
     ]
    }
   ],
   "source": [
    "from keras.preprocessing.image import load_img, img_to_array\n",
    "img = load_img('whoooo111.jpg', target_size=(224,224))"
   ]
  },
  {
   "cell_type": "code",
   "execution_count": 6,
   "metadata": {},
   "outputs": [
    {
     "data": {
      "text/plain": [
       "(224, 224, 3)"
      ]
     },
     "execution_count": 6,
     "metadata": {},
     "output_type": "execute_result"
    }
   ],
   "source": [
    "img = img_to_array(img)\n",
    "img.shape"
   ]
  },
  {
   "cell_type": "code",
   "execution_count": 9,
   "metadata": {},
   "outputs": [
    {
     "data": {
      "text/plain": [
       "array([ 2.,  7., 13.], dtype=float32)"
      ]
     },
     "execution_count": 9,
     "metadata": {},
     "output_type": "execute_result"
    }
   ],
   "source": [
    "img[0][0] #first pixel"
   ]
  },
  {
   "cell_type": "code",
   "execution_count": 11,
   "metadata": {},
   "outputs": [],
   "source": [
    "from keras.preprocessing.image import array_to_img , ImageDataGenerator"
   ]
  },
  {
   "cell_type": "code",
   "execution_count": 13,
   "metadata": {},
   "outputs": [],
   "source": [
    "generator = ImageDataGenerator(horizontal_flip=True, rotation_range=40, shear_range=0.25, zoom_range=0.25, \n",
    "                              brightness_range=[0.5, 2.5])"
   ]
  },
  {
   "cell_type": "code",
   "execution_count": 14,
   "metadata": {},
   "outputs": [],
   "source": [
    "# all data that was passed to NN-> contained an extra dim\n",
    "# (x,y,z,3) -> # (1,x,y,z,3)\n",
    "img_seq = img.reshape((1,) + img.shape)"
   ]
  },
  {
   "cell_type": "code",
   "execution_count": 15,
   "metadata": {},
   "outputs": [],
   "source": [
    "# generating augmentations\n",
    "c = 0 \n",
    "for batch in generator.flow(img_seq, batch_size=1, save_to_dir='output', save_prefix='panda_', save_format='jpeg'):\n",
    "    if c == 20:\n",
    "        break\n",
    "    c = c+1 "
   ]
  },
  {
   "cell_type": "code",
   "execution_count": 16,
   "metadata": {},
   "outputs": [
    {
     "name": "stdout",
     "output_type": "stream",
     "text": [
      "augmentation.ipynb  augmentation.ipynb.amltmp  output  whoooo111.jpg\r\n"
     ]
    }
   ],
   "source": [
    "!ls"
   ]
  },
  {
   "cell_type": "code",
   "execution_count": 17,
   "metadata": {},
   "outputs": [
    {
     "name": "stdout",
     "output_type": "stream",
     "text": [
      "panda__0_2183.jpeg  panda__0_3320.jpeg\tpanda__0_6806.jpeg  panda__0_8652.jpeg\r\n",
      "panda__0_2577.jpeg  panda__0_3428.jpeg\tpanda__0_7314.jpeg  panda__0_9107.jpeg\r\n",
      "panda__0_2648.jpeg  panda__0_4029.jpeg\tpanda__0_7624.jpeg  panda__0_9643.jpeg\r\n",
      "panda__0_2689.jpeg  panda__0_4134.jpeg\tpanda__0_7830.jpeg\r\n",
      "panda__0_3189.jpeg  panda__0_6186.jpeg\tpanda__0_803.jpeg\r\n",
      "panda__0_326.jpeg   panda__0_680.jpeg\tpanda__0_8568.jpeg\r\n"
     ]
    }
   ],
   "source": [
    "!ls output"
   ]
  },
  {
   "cell_type": "code",
   "execution_count": null,
   "metadata": {},
   "outputs": [],
   "source": []
  }
 ],
 "metadata": {
  "kernelspec": {
   "display_name": "Python 3.6 - AzureML",
   "language": "python",
   "name": "python3-azureml"
  },
  "language_info": {
   "codemirror_mode": {
    "name": "ipython",
    "version": 3
   },
   "file_extension": ".py",
   "mimetype": "text/x-python",
   "name": "python",
   "nbconvert_exporter": "python",
   "pygments_lexer": "ipython3",
   "version": "3.6.9"
  }
 },
 "nbformat": 4,
 "nbformat_minor": 2
}
