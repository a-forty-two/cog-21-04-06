{
 "cells": [
  {
   "cell_type": "code",
   "execution_count": 1,
   "metadata": {},
   "outputs": [],
   "source": [
    "import tensorflow as tf\n",
    "from tensorflow import keras\n",
    "import numpy as np"
   ]
  },
  {
   "cell_type": "code",
   "execution_count": 2,
   "metadata": {},
   "outputs": [
    {
     "name": "stderr",
     "output_type": "stream",
     "text": [
      "Using TensorFlow backend.\n"
     ]
    }
   ],
   "source": [
    "from keras import datasets"
   ]
  },
  {
   "cell_type": "code",
   "execution_count": 7,
   "metadata": {},
   "outputs": [],
   "source": [
    "(trainx, trainy), (testx, testy) = keras.datasets.fashion_mnist.load_data()"
   ]
  },
  {
   "cell_type": "code",
   "execution_count": 15,
   "metadata": {},
   "outputs": [
    {
     "data": {
      "text/plain": [
       "(28, 28)"
      ]
     },
     "execution_count": 15,
     "metadata": {},
     "output_type": "execute_result"
    }
   ],
   "source": [
    "# Neural Networks-> 1 D Data\n",
    "\n",
    "# Layer that could've converted this 2D data into 1-D data\n",
    "\n",
    "# NN layers set that could learn weights and biases on top of network \n",
    "trainx[0].shape"
   ]
  },
  {
   "cell_type": "code",
   "execution_count": 17,
   "metadata": {},
   "outputs": [],
   "source": [
    "model = keras.models.Sequential()\n",
    "model.add(keras.layers.Flatten(input_shape=(28,28)))"
   ]
  },
  {
   "cell_type": "code",
   "execution_count": 18,
   "metadata": {},
   "outputs": [
    {
     "data": {
      "text/plain": [
       "<tensorflow.python.keras.layers.core.Flatten at 0x7f5584730748>"
      ]
     },
     "execution_count": 18,
     "metadata": {},
     "output_type": "execute_result"
    }
   ],
   "source": [
    "model.layers[0]"
   ]
  },
  {
   "cell_type": "code",
   "execution_count": 19,
   "metadata": {},
   "outputs": [],
   "source": [
    "model.add(keras.layers.Dense(16, activation='relu'))\n",
    "# y = x if x > 0\n",
    "# y = 0  if x<=0\n",
    "# supress -> negative numbers-> Negative numbers dont make sense \n",
    "# non-linearity to the model\n",
    "model.add(keras.layers.Dense(10, activation='softmax'))"
   ]
  },
  {
   "cell_type": "code",
   "execution_count": 20,
   "metadata": {},
   "outputs": [
    {
     "name": "stdout",
     "output_type": "stream",
     "text": [
      "Model: \"sequential_2\"\n",
      "_________________________________________________________________\n",
      "Layer (type)                 Output Shape              Param #   \n",
      "=================================================================\n",
      "flatten (Flatten)            (None, 784)               0         \n",
      "_________________________________________________________________\n",
      "dense (Dense)                (None, 16)                12560     \n",
      "_________________________________________________________________\n",
      "dense_1 (Dense)              (None, 10)                170       \n",
      "=================================================================\n",
      "Total params: 12,730\n",
      "Trainable params: 12,730\n",
      "Non-trainable params: 0\n",
      "_________________________________________________________________\n"
     ]
    }
   ],
   "source": [
    "model.summary()"
   ]
  },
  {
   "cell_type": "code",
   "execution_count": 21,
   "metadata": {},
   "outputs": [],
   "source": [
    "# Flattening-> 2D img to 1-D img-> no!-> 0 trainable parameters\n",
    "# Dense-> input_size * output_size + output_size\n",
    "# 784X16 + 16\n",
    "# 16 X 10 + 10\n",
    "# Deep Learning-> y = w1x1 + w2x3 + w3x3.... w12704x12704 + b1...b26\n",
    "# simulat-> x+y=2, 2x+y=3, x,y=?\n",
    "# 10 variables-> 10 equations\n"
   ]
  },
  {
   "cell_type": "code",
   "execution_count": 22,
   "metadata": {},
   "outputs": [],
   "source": [
    "# Forward + backward prop-> actual values for W and B will be only calculated onlce TRAINING happens\n",
    "\n",
    "# How to calculate the LOSS function \n",
    "# Every epoch/iteration attempts to reduce the loss\n",
    "# this function to reduce the loss is called OPTIMIZER_FUNCTION\n",
    "\n",
    "# unit/formulae by which to measure loss-> METRICS (accuracy, MSE, MAE, F1)\n",
    "\n",
    "model.compile(loss='sparse_categorical_crossentropy', optimizer='adam',metrics=['accuracy'])\n",
    "\n",
    "# RMSProp, Gradient Descent-> 2 algorithms \n",
    "# RMSProp + Momentum in direction of correct answer-> ADAM optimizer \n",
    "# AdaGradient Boost\n"
   ]
  },
  {
   "cell_type": "code",
   "execution_count": 25,
   "metadata": {},
   "outputs": [
    {
     "name": "stdout",
     "output_type": "stream",
     "text": [
      "Train on 60000 samples\n",
      "Epoch 1/10\n",
      "60000/60000 [==============================] - 3s 42us/sample - loss: 1.3303 - accuracy: 0.4687\n",
      "Epoch 2/10\n",
      "60000/60000 [==============================] - 2s 41us/sample - loss: 1.0924 - accuracy: 0.5680\n",
      "Epoch 3/10\n",
      "60000/60000 [==============================] - 3s 42us/sample - loss: 0.9838 - accuracy: 0.5964\n",
      "Epoch 4/10\n",
      "60000/60000 [==============================] - 3s 43us/sample - loss: 0.9198 - accuracy: 0.6306\n",
      "Epoch 5/10\n",
      "60000/60000 [==============================] - 3s 42us/sample - loss: 0.8775 - accuracy: 0.6395\n",
      "Epoch 6/10\n",
      "60000/60000 [==============================] - 3s 42us/sample - loss: 0.8541 - accuracy: 0.6477\n",
      "Epoch 7/10\n",
      "60000/60000 [==============================] - 3s 44us/sample - loss: 0.8345 - accuracy: 0.6608\n",
      "Epoch 8/10\n",
      "60000/60000 [==============================] - 3s 42us/sample - loss: 0.8186 - accuracy: 0.6674\n",
      "Epoch 9/10\n",
      "60000/60000 [==============================] - 3s 42us/sample - loss: 0.8066 - accuracy: 0.6719\n",
      "Epoch 10/10\n",
      "60000/60000 [==============================] - 3s 42us/sample - loss: 0.7767 - accuracy: 0.6912\n"
     ]
    }
   ],
   "source": [
    "fitdata = model.fit(trainx, trainy, epochs=10)"
   ]
  },
  {
   "cell_type": "code",
   "execution_count": 26,
   "metadata": {},
   "outputs": [
    {
     "data": {
      "text/plain": [
       "{'loss': [1.3303244405110677,\n",
       "  1.092405057144165,\n",
       "  0.9837929357846578,\n",
       "  0.9197809803009033,\n",
       "  0.8774771318117778,\n",
       "  0.8540532398700714,\n",
       "  0.8344727541605631,\n",
       "  0.8186146761417389,\n",
       "  0.8066131430943807,\n",
       "  0.7767055405139923],\n",
       " 'accuracy': [0.4687,\n",
       "  0.56796664,\n",
       "  0.59645,\n",
       "  0.63055,\n",
       "  0.63955,\n",
       "  0.64765,\n",
       "  0.66081667,\n",
       "  0.6673833,\n",
       "  0.67195,\n",
       "  0.69123334]}"
      ]
     },
     "execution_count": 26,
     "metadata": {},
     "output_type": "execute_result"
    }
   ],
   "source": [
    "fitdata.history"
   ]
  },
  {
   "cell_type": "code",
   "execution_count": 27,
   "metadata": {},
   "outputs": [],
   "source": [
    "predictions = model.predict(testx)"
   ]
  },
  {
   "cell_type": "code",
   "execution_count": 29,
   "metadata": {},
   "outputs": [
    {
     "data": {
      "text/plain": [
       "array([[8.1342488e-10, 4.2812376e-09, 3.1175248e-30, 2.3757212e-04,\n",
       "        0.0000000e+00, 7.1433224e-02, 2.9032813e-08, 1.6921577e-01,\n",
       "        5.7792245e-06, 7.5910759e-01],\n",
       "       [4.5732804e-02, 1.6891335e-04, 3.2984042e-01, 3.7545893e-02,\n",
       "        3.3116367e-01, 1.2164540e-02, 2.2430480e-01, 5.9124001e-04,\n",
       "        1.7191328e-02, 1.2963287e-03],\n",
       "       [1.5503545e-03, 9.9844199e-01, 1.1208235e-16, 7.6097926e-06,\n",
       "        4.9081361e-14, 0.0000000e+00, 5.9112177e-09, 0.0000000e+00,\n",
       "        2.8128735e-09, 0.0000000e+00],\n",
       "       [4.1233307e-05, 9.9907315e-01, 4.5866902e-30, 8.8559784e-04,\n",
       "        0.0000000e+00, 0.0000000e+00, 1.4248733e-09, 0.0000000e+00,\n",
       "        3.8672887e-08, 0.0000000e+00],\n",
       "       [4.5732804e-02, 1.6891335e-04, 3.2984042e-01, 3.7545893e-02,\n",
       "        3.3116367e-01, 1.2164540e-02, 2.2430480e-01, 5.9124001e-04,\n",
       "        1.7191328e-02, 1.2963287e-03],\n",
       "       [3.7571162e-02, 9.6169657e-01, 1.4960736e-11, 7.2436262e-04,\n",
       "        1.2910264e-09, 0.0000000e+00, 6.1478140e-06, 0.0000000e+00,\n",
       "        1.7958990e-06, 0.0000000e+00],\n",
       "       [4.5732804e-02, 1.6891335e-04, 3.2984042e-01, 3.7545893e-02,\n",
       "        3.3116367e-01, 1.2164540e-02, 2.2430480e-01, 5.9124001e-04,\n",
       "        1.7191328e-02, 1.2963287e-03],\n",
       "       [4.5732804e-02, 1.6891335e-04, 3.2984042e-01, 3.7545893e-02,\n",
       "        3.3116367e-01, 1.2164540e-02, 2.2430480e-01, 5.9124001e-04,\n",
       "        1.7191328e-02, 1.2963287e-03],\n",
       "       [1.9764769e-04, 1.6904291e-07, 2.3641297e-12, 5.2717784e-05,\n",
       "        2.5069366e-22, 8.4086275e-01, 2.1854082e-04, 9.6705526e-02,\n",
       "        4.5544218e-02, 1.6418371e-02],\n",
       "       [1.6308938e-21, 2.5653001e-18, 0.0000000e+00, 3.6509525e-11,\n",
       "        0.0000000e+00, 9.7092651e-03, 2.0215002e-18, 9.8242491e-01,\n",
       "        1.4937039e-09, 7.8658024e-03]], dtype=float32)"
      ]
     },
     "execution_count": 29,
     "metadata": {},
     "output_type": "execute_result"
    }
   ],
   "source": [
    "predictions[:10]\n",
    "# probability Distribution"
   ]
  },
  {
   "cell_type": "code",
   "execution_count": 30,
   "metadata": {},
   "outputs": [
    {
     "data": {
      "text/plain": [
       "9"
      ]
     },
     "execution_count": 30,
     "metadata": {},
     "output_type": "execute_result"
    }
   ],
   "source": [
    "np.argmax(predictions[0])"
   ]
  },
  {
   "cell_type": "code",
   "execution_count": 31,
   "metadata": {},
   "outputs": [
    {
     "data": {
      "text/plain": [
       "9"
      ]
     },
     "execution_count": 31,
     "metadata": {},
     "output_type": "execute_result"
    }
   ],
   "source": [
    "testy[0]"
   ]
  },
  {
   "cell_type": "code",
   "execution_count": 32,
   "metadata": {},
   "outputs": [],
   "source": [
    "mistakes=0\n",
    "for i in range(100):\n",
    "    if(np.argmax(predictions[i])!= testy[i]):\n",
    "        mistakes = mistakes + 1"
   ]
  },
  {
   "cell_type": "code",
   "execution_count": 33,
   "metadata": {},
   "outputs": [
    {
     "data": {
      "text/plain": [
       "35"
      ]
     },
     "execution_count": 33,
     "metadata": {},
     "output_type": "execute_result"
    }
   ],
   "source": [
    "mistakes"
   ]
  },
  {
   "cell_type": "code",
   "execution_count": null,
   "metadata": {},
   "outputs": [],
   "source": []
  }
 ],
 "metadata": {
  "kernel_info": {
   "name": "python3-azureml"
  },
  "kernelspec": {
   "display_name": "Python 3.6 - AzureML",
   "language": "python",
   "name": "python3-azureml"
  },
  "language_info": {
   "codemirror_mode": {
    "name": "ipython",
    "version": 3
   },
   "file_extension": ".py",
   "mimetype": "text/x-python",
   "name": "python",
   "nbconvert_exporter": "python",
   "pygments_lexer": "ipython3",
   "version": "3.6.9"
  },
  "nteract": {
   "version": "nteract-front-end@1.0.0"
  }
 },
 "nbformat": 4,
 "nbformat_minor": 2
}
